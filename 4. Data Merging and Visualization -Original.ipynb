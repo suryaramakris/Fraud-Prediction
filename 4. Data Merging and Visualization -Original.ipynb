{
 "cells": [
  {
   "cell_type": "markdown",
   "id": "6a9e5d0b",
   "metadata": {},
   "source": [
    "# <center>Fraud Detection"
   ]
  },
  {
   "cell_type": "markdown",
   "id": "ae162a49",
   "metadata": {},
   "source": [
    "### The data provided is of all the customers who's insurnce is been claimed and in that customers whom claim is classified asfraud or not."
   ]
  },
  {
   "cell_type": "code",
   "execution_count": 1,
   "id": "74958fb3",
   "metadata": {},
   "outputs": [],
   "source": [
    "import pandas as pd\n",
    "import numpy as np\n",
    "import seaborn as sns\n",
    "import matplotlib.pyplot as plt\n",
    "%matplotlib inline\n",
    "\n",
    "from sklearn.preprocessing import OneHotEncoder"
   ]
  },
  {
   "cell_type": "markdown",
   "id": "040cc8de",
   "metadata": {},
   "source": [
    "## Reading the Demographics data set (after removing null values)"
   ]
  },
  {
   "cell_type": "code",
   "execution_count": 2,
   "id": "877a4209",
   "metadata": {
    "scrolled": true
   },
   "outputs": [
    {
     "name": "stdout",
     "output_type": "stream",
     "text": [
      "(28836, 9)\n"
     ]
    },
    {
     "data": {
      "text/html": [
       "<div>\n",
       "<style scoped>\n",
       "    .dataframe tbody tr th:only-of-type {\n",
       "        vertical-align: middle;\n",
       "    }\n",
       "\n",
       "    .dataframe tbody tr th {\n",
       "        vertical-align: top;\n",
       "    }\n",
       "\n",
       "    .dataframe thead th {\n",
       "        text-align: right;\n",
       "    }\n",
       "</style>\n",
       "<table border=\"1\" class=\"dataframe\">\n",
       "  <thead>\n",
       "    <tr style=\"text-align: right;\">\n",
       "      <th></th>\n",
       "      <th>CustomerID</th>\n",
       "      <th>InsuredAge</th>\n",
       "      <th>InsuredZipCode</th>\n",
       "      <th>InsuredGender</th>\n",
       "      <th>InsuredEducationLevel</th>\n",
       "      <th>InsuredOccupation</th>\n",
       "      <th>InsuredHobbies</th>\n",
       "      <th>CapitalGains</th>\n",
       "      <th>CapitalLoss</th>\n",
       "    </tr>\n",
       "  </thead>\n",
       "  <tbody>\n",
       "    <tr>\n",
       "      <th>0</th>\n",
       "      <td>Cust10000</td>\n",
       "      <td>35</td>\n",
       "      <td>454776</td>\n",
       "      <td>MALE</td>\n",
       "      <td>JD</td>\n",
       "      <td>armed-forces</td>\n",
       "      <td>movies</td>\n",
       "      <td>56700</td>\n",
       "      <td>-48500</td>\n",
       "    </tr>\n",
       "    <tr>\n",
       "      <th>1</th>\n",
       "      <td>Cust10001</td>\n",
       "      <td>36</td>\n",
       "      <td>454776</td>\n",
       "      <td>MALE</td>\n",
       "      <td>JD</td>\n",
       "      <td>tech-support</td>\n",
       "      <td>cross-fit</td>\n",
       "      <td>70600</td>\n",
       "      <td>-48500</td>\n",
       "    </tr>\n",
       "    <tr>\n",
       "      <th>2</th>\n",
       "      <td>Cust10002</td>\n",
       "      <td>33</td>\n",
       "      <td>603260</td>\n",
       "      <td>MALE</td>\n",
       "      <td>JD</td>\n",
       "      <td>armed-forces</td>\n",
       "      <td>polo</td>\n",
       "      <td>66400</td>\n",
       "      <td>-63700</td>\n",
       "    </tr>\n",
       "    <tr>\n",
       "      <th>3</th>\n",
       "      <td>Cust10003</td>\n",
       "      <td>36</td>\n",
       "      <td>474848</td>\n",
       "      <td>MALE</td>\n",
       "      <td>JD</td>\n",
       "      <td>armed-forces</td>\n",
       "      <td>polo</td>\n",
       "      <td>47900</td>\n",
       "      <td>-73400</td>\n",
       "    </tr>\n",
       "    <tr>\n",
       "      <th>4</th>\n",
       "      <td>Cust10004</td>\n",
       "      <td>29</td>\n",
       "      <td>457942</td>\n",
       "      <td>FEMALE</td>\n",
       "      <td>High School</td>\n",
       "      <td>exec-managerial</td>\n",
       "      <td>dancing</td>\n",
       "      <td>0</td>\n",
       "      <td>-41500</td>\n",
       "    </tr>\n",
       "  </tbody>\n",
       "</table>\n",
       "</div>"
      ],
      "text/plain": [
       "  CustomerID  InsuredAge  InsuredZipCode InsuredGender InsuredEducationLevel  \\\n",
       "0  Cust10000          35          454776          MALE                    JD   \n",
       "1  Cust10001          36          454776          MALE                    JD   \n",
       "2  Cust10002          33          603260          MALE                    JD   \n",
       "3  Cust10003          36          474848          MALE                    JD   \n",
       "4  Cust10004          29          457942        FEMALE           High School   \n",
       "\n",
       "  InsuredOccupation InsuredHobbies  CapitalGains  CapitalLoss  \n",
       "0      armed-forces         movies         56700       -48500  \n",
       "1      tech-support      cross-fit         70600       -48500  \n",
       "2      armed-forces           polo         66400       -63700  \n",
       "3      armed-forces           polo         47900       -73400  \n",
       "4   exec-managerial        dancing             0       -41500  "
      ]
     },
     "execution_count": 2,
     "metadata": {},
     "output_type": "execute_result"
    }
   ],
   "source": [
    "# Demographics Data : These files consist of the demographic data of each customer\n",
    "dfd = pd.read_csv(\"Demographics.csv\",na_values= [\"\", \"NA\"])\n",
    "dfd.drop(\"Unnamed: 0\",axis=1,inplace=True)\n",
    "print(dfd.shape)\n",
    "dfd.head()"
   ]
  },
  {
   "cell_type": "code",
   "execution_count": 3,
   "id": "6d382438",
   "metadata": {},
   "outputs": [
    {
     "data": {
      "text/plain": [
       "0"
      ]
     },
     "execution_count": 3,
     "metadata": {},
     "output_type": "execute_result"
    }
   ],
   "source": [
    "# Missing values in the Demographics data set\n",
    "dfd.isnull().sum().sum()"
   ]
  },
  {
   "cell_type": "markdown",
   "id": "1910cdaf",
   "metadata": {},
   "source": [
    "## Reading the policy claim data set"
   ]
  },
  {
   "cell_type": "code",
   "execution_count": 4,
   "id": "543aacfa",
   "metadata": {},
   "outputs": [
    {
     "name": "stdout",
     "output_type": "stream",
     "text": [
      "(28836, 21)\n"
     ]
    },
    {
     "data": {
      "text/html": [
       "<div>\n",
       "<style scoped>\n",
       "    .dataframe tbody tr th:only-of-type {\n",
       "        vertical-align: middle;\n",
       "    }\n",
       "\n",
       "    .dataframe tbody tr th {\n",
       "        vertical-align: top;\n",
       "    }\n",
       "\n",
       "    .dataframe thead th {\n",
       "        text-align: right;\n",
       "    }\n",
       "</style>\n",
       "<table border=\"1\" class=\"dataframe\">\n",
       "  <thead>\n",
       "    <tr style=\"text-align: right;\">\n",
       "      <th></th>\n",
       "      <th>CustomerID</th>\n",
       "      <th>TypeOfIncident</th>\n",
       "      <th>TypeOfCollission</th>\n",
       "      <th>SeverityOfIncident</th>\n",
       "      <th>AuthoritiesContacted</th>\n",
       "      <th>IncidentState</th>\n",
       "      <th>IncidentCity</th>\n",
       "      <th>IncidentAddress</th>\n",
       "      <th>IncidentTime</th>\n",
       "      <th>NumberOfVehicles</th>\n",
       "      <th>...</th>\n",
       "      <th>BodilyInjuries</th>\n",
       "      <th>Witnesses</th>\n",
       "      <th>PoliceReport</th>\n",
       "      <th>AmountOfTotalClaim</th>\n",
       "      <th>AmountOfInjuryClaim</th>\n",
       "      <th>AmountOfPropertyClaim</th>\n",
       "      <th>AmountOfVehicleDamage</th>\n",
       "      <th>Year</th>\n",
       "      <th>Month</th>\n",
       "      <th>days</th>\n",
       "    </tr>\n",
       "  </thead>\n",
       "  <tbody>\n",
       "    <tr>\n",
       "      <th>0</th>\n",
       "      <td>Cust10001</td>\n",
       "      <td>Multi-vehicle Collision</td>\n",
       "      <td>Side Collision</td>\n",
       "      <td>Total Loss</td>\n",
       "      <td>Police</td>\n",
       "      <td>State7</td>\n",
       "      <td>City5</td>\n",
       "      <td>Location 1311</td>\n",
       "      <td>10.0</td>\n",
       "      <td>3</td>\n",
       "      <td>...</td>\n",
       "      <td>2</td>\n",
       "      <td>1.0</td>\n",
       "      <td>YES</td>\n",
       "      <td>61382.0</td>\n",
       "      <td>15560</td>\n",
       "      <td>5919</td>\n",
       "      <td>39903</td>\n",
       "      <td>2015</td>\n",
       "      <td>2</td>\n",
       "      <td>2</td>\n",
       "    </tr>\n",
       "    <tr>\n",
       "      <th>1</th>\n",
       "      <td>Cust10002</td>\n",
       "      <td>Single Vehicle Collision</td>\n",
       "      <td>Side Collision</td>\n",
       "      <td>Minor Damage</td>\n",
       "      <td>Other</td>\n",
       "      <td>State8</td>\n",
       "      <td>City6</td>\n",
       "      <td>Location 2081</td>\n",
       "      <td>22.0</td>\n",
       "      <td>1</td>\n",
       "      <td>...</td>\n",
       "      <td>2</td>\n",
       "      <td>3.0</td>\n",
       "      <td>NO</td>\n",
       "      <td>66755.0</td>\n",
       "      <td>11630</td>\n",
       "      <td>11630</td>\n",
       "      <td>43495</td>\n",
       "      <td>2015</td>\n",
       "      <td>1</td>\n",
       "      <td>15</td>\n",
       "    </tr>\n",
       "    <tr>\n",
       "      <th>2</th>\n",
       "      <td>Cust10003</td>\n",
       "      <td>Single Vehicle Collision</td>\n",
       "      <td>Side Collision</td>\n",
       "      <td>Minor Damage</td>\n",
       "      <td>Other</td>\n",
       "      <td>State9</td>\n",
       "      <td>City6</td>\n",
       "      <td>Location 2081</td>\n",
       "      <td>22.0</td>\n",
       "      <td>1</td>\n",
       "      <td>...</td>\n",
       "      <td>2</td>\n",
       "      <td>3.0</td>\n",
       "      <td>NO</td>\n",
       "      <td>66243.0</td>\n",
       "      <td>12003</td>\n",
       "      <td>12003</td>\n",
       "      <td>42237</td>\n",
       "      <td>2015</td>\n",
       "      <td>1</td>\n",
       "      <td>19</td>\n",
       "    </tr>\n",
       "    <tr>\n",
       "      <th>3</th>\n",
       "      <td>Cust10004</td>\n",
       "      <td>Single Vehicle Collision</td>\n",
       "      <td>Rear Collision</td>\n",
       "      <td>Minor Damage</td>\n",
       "      <td>Fire</td>\n",
       "      <td>State8</td>\n",
       "      <td>City6</td>\n",
       "      <td>Location 1695</td>\n",
       "      <td>10.0</td>\n",
       "      <td>1</td>\n",
       "      <td>...</td>\n",
       "      <td>2</td>\n",
       "      <td>1.0</td>\n",
       "      <td>YES</td>\n",
       "      <td>53544.0</td>\n",
       "      <td>8829</td>\n",
       "      <td>7234</td>\n",
       "      <td>37481</td>\n",
       "      <td>2015</td>\n",
       "      <td>1</td>\n",
       "      <td>9</td>\n",
       "    </tr>\n",
       "    <tr>\n",
       "      <th>4</th>\n",
       "      <td>Cust10005</td>\n",
       "      <td>Single Vehicle Collision</td>\n",
       "      <td>Rear Collision</td>\n",
       "      <td>Minor Damage</td>\n",
       "      <td>Fire</td>\n",
       "      <td>State7</td>\n",
       "      <td>City6</td>\n",
       "      <td>Location 1695</td>\n",
       "      <td>7.0</td>\n",
       "      <td>1</td>\n",
       "      <td>...</td>\n",
       "      <td>1</td>\n",
       "      <td>2.0</td>\n",
       "      <td>NoReport</td>\n",
       "      <td>53167.0</td>\n",
       "      <td>7818</td>\n",
       "      <td>8132</td>\n",
       "      <td>37217</td>\n",
       "      <td>2015</td>\n",
       "      <td>2</td>\n",
       "      <td>7</td>\n",
       "    </tr>\n",
       "  </tbody>\n",
       "</table>\n",
       "<p>5 rows × 21 columns</p>\n",
       "</div>"
      ],
      "text/plain": [
       "  CustomerID            TypeOfIncident TypeOfCollission SeverityOfIncident  \\\n",
       "0  Cust10001   Multi-vehicle Collision   Side Collision         Total Loss   \n",
       "1  Cust10002  Single Vehicle Collision   Side Collision       Minor Damage   \n",
       "2  Cust10003  Single Vehicle Collision   Side Collision       Minor Damage   \n",
       "3  Cust10004  Single Vehicle Collision   Rear Collision       Minor Damage   \n",
       "4  Cust10005  Single Vehicle Collision   Rear Collision       Minor Damage   \n",
       "\n",
       "  AuthoritiesContacted IncidentState IncidentCity IncidentAddress  \\\n",
       "0               Police        State7        City5   Location 1311   \n",
       "1                Other        State8        City6   Location 2081   \n",
       "2                Other        State9        City6   Location 2081   \n",
       "3                 Fire        State8        City6   Location 1695   \n",
       "4                 Fire        State7        City6   Location 1695   \n",
       "\n",
       "   IncidentTime  NumberOfVehicles  ... BodilyInjuries  Witnesses  \\\n",
       "0          10.0                 3  ...              2        1.0   \n",
       "1          22.0                 1  ...              2        3.0   \n",
       "2          22.0                 1  ...              2        3.0   \n",
       "3          10.0                 1  ...              2        1.0   \n",
       "4           7.0                 1  ...              1        2.0   \n",
       "\n",
       "   PoliceReport AmountOfTotalClaim  AmountOfInjuryClaim  \\\n",
       "0           YES            61382.0                15560   \n",
       "1            NO            66755.0                11630   \n",
       "2            NO            66243.0                12003   \n",
       "3           YES            53544.0                 8829   \n",
       "4      NoReport            53167.0                 7818   \n",
       "\n",
       "   AmountOfPropertyClaim  AmountOfVehicleDamage  Year  Month  days  \n",
       "0                   5919                  39903  2015      2     2  \n",
       "1                  11630                  43495  2015      1    15  \n",
       "2                  12003                  42237  2015      1    19  \n",
       "3                   7234                  37481  2015      1     9  \n",
       "4                   8132                  37217  2015      2     7  \n",
       "\n",
       "[5 rows x 21 columns]"
      ]
     },
     "execution_count": 4,
     "metadata": {},
     "output_type": "execute_result"
    }
   ],
   "source": [
    "# Data of Claim : These files consist of the details about the insurance claim,that the customer applied for.\n",
    "dfc = pd.read_csv(\"PolicyClaim.csv\",na_values= [ \"?\", \"-5\", \"MISSINGVALUE\", \"MISSEDDATA\"])\n",
    "print(dfc.shape)\n",
    "dfc.head()\n",
    "\n",
    "# index 16 and 17 is fishy -- check if they are fraud case"
   ]
  },
  {
   "cell_type": "code",
   "execution_count": 5,
   "id": "9274d0c2",
   "metadata": {},
   "outputs": [
    {
     "data": {
      "text/plain": [
       "0"
      ]
     },
     "execution_count": 5,
     "metadata": {},
     "output_type": "execute_result"
    }
   ],
   "source": [
    "# Missing values in the policy claim dataframe\n",
    "dfc.isnull().sum().sum()"
   ]
  },
  {
   "cell_type": "markdown",
   "id": "d98a6d1a",
   "metadata": {},
   "source": [
    "### Here maybe the missing value itself maybe an information, so for some columns i have imputed a new value that indicates that value was missing and for property damage i have done model based imputation using KNN."
   ]
  },
  {
   "cell_type": "markdown",
   "id": "b9a42ed4",
   "metadata": {},
   "source": [
    "## Reading the Policy Information data set"
   ]
  },
  {
   "cell_type": "code",
   "execution_count": 6,
   "id": "0129c4dd",
   "metadata": {
    "scrolled": true
   },
   "outputs": [
    {
     "name": "stdout",
     "output_type": "stream",
     "text": [
      "(28836, 10)\n"
     ]
    },
    {
     "data": {
      "text/html": [
       "<div>\n",
       "<style scoped>\n",
       "    .dataframe tbody tr th:only-of-type {\n",
       "        vertical-align: middle;\n",
       "    }\n",
       "\n",
       "    .dataframe tbody tr th {\n",
       "        vertical-align: top;\n",
       "    }\n",
       "\n",
       "    .dataframe thead th {\n",
       "        text-align: right;\n",
       "    }\n",
       "</style>\n",
       "<table border=\"1\" class=\"dataframe\">\n",
       "  <thead>\n",
       "    <tr style=\"text-align: right;\">\n",
       "      <th></th>\n",
       "      <th>InsurancePolicyNumber</th>\n",
       "      <th>CustomerLoyaltyPeriod</th>\n",
       "      <th>DateOfPolicyCoverage</th>\n",
       "      <th>InsurancePolicyState</th>\n",
       "      <th>Policy_CombinedSingleLimit</th>\n",
       "      <th>Policy_Deductible</th>\n",
       "      <th>PolicyAnnualPremium</th>\n",
       "      <th>UmbrellaLimit</th>\n",
       "      <th>InsuredRelationship</th>\n",
       "      <th>CustomerID</th>\n",
       "    </tr>\n",
       "  </thead>\n",
       "  <tbody>\n",
       "    <tr>\n",
       "      <th>0</th>\n",
       "      <td>110122</td>\n",
       "      <td>328</td>\n",
       "      <td>2014-10-17</td>\n",
       "      <td>State3</td>\n",
       "      <td>250/500</td>\n",
       "      <td>1000</td>\n",
       "      <td>1406.91</td>\n",
       "      <td>0</td>\n",
       "      <td>husband</td>\n",
       "      <td>Cust1001</td>\n",
       "    </tr>\n",
       "    <tr>\n",
       "      <th>1</th>\n",
       "      <td>110125</td>\n",
       "      <td>256</td>\n",
       "      <td>1990-05-25</td>\n",
       "      <td>State1</td>\n",
       "      <td>250/500</td>\n",
       "      <td>2000</td>\n",
       "      <td>1415.74</td>\n",
       "      <td>6000000</td>\n",
       "      <td>unmarried</td>\n",
       "      <td>Cust1004</td>\n",
       "    </tr>\n",
       "    <tr>\n",
       "      <th>2</th>\n",
       "      <td>110126</td>\n",
       "      <td>228</td>\n",
       "      <td>2014-06-06</td>\n",
       "      <td>State1</td>\n",
       "      <td>500/1000</td>\n",
       "      <td>1000</td>\n",
       "      <td>1583.91</td>\n",
       "      <td>6000000</td>\n",
       "      <td>unmarried</td>\n",
       "      <td>Cust1005</td>\n",
       "    </tr>\n",
       "    <tr>\n",
       "      <th>3</th>\n",
       "      <td>110127</td>\n",
       "      <td>256</td>\n",
       "      <td>2006-10-12</td>\n",
       "      <td>State3</td>\n",
       "      <td>250/500</td>\n",
       "      <td>1000</td>\n",
       "      <td>1351.10</td>\n",
       "      <td>0</td>\n",
       "      <td>unmarried</td>\n",
       "      <td>Cust1006</td>\n",
       "    </tr>\n",
       "    <tr>\n",
       "      <th>4</th>\n",
       "      <td>110128</td>\n",
       "      <td>137</td>\n",
       "      <td>2000-06-04</td>\n",
       "      <td>State2</td>\n",
       "      <td>250/500</td>\n",
       "      <td>1000</td>\n",
       "      <td>1333.35</td>\n",
       "      <td>0</td>\n",
       "      <td>husband</td>\n",
       "      <td>Cust1007</td>\n",
       "    </tr>\n",
       "  </tbody>\n",
       "</table>\n",
       "</div>"
      ],
      "text/plain": [
       "   InsurancePolicyNumber  CustomerLoyaltyPeriod DateOfPolicyCoverage  \\\n",
       "0                 110122                    328           2014-10-17   \n",
       "1                 110125                    256           1990-05-25   \n",
       "2                 110126                    228           2014-06-06   \n",
       "3                 110127                    256           2006-10-12   \n",
       "4                 110128                    137           2000-06-04   \n",
       "\n",
       "  InsurancePolicyState Policy_CombinedSingleLimit  Policy_Deductible  \\\n",
       "0               State3                    250/500               1000   \n",
       "1               State1                    250/500               2000   \n",
       "2               State1                   500/1000               1000   \n",
       "3               State3                    250/500               1000   \n",
       "4               State2                    250/500               1000   \n",
       "\n",
       "   PolicyAnnualPremium  UmbrellaLimit InsuredRelationship CustomerID  \n",
       "0              1406.91              0             husband   Cust1001  \n",
       "1              1415.74        6000000           unmarried   Cust1004  \n",
       "2              1583.91        6000000           unmarried   Cust1005  \n",
       "3              1351.10              0           unmarried   Cust1006  \n",
       "4              1333.35              0             husband   Cust1007  "
      ]
     },
     "execution_count": 6,
     "metadata": {},
     "output_type": "execute_result"
    }
   ],
   "source": [
    "# Policy Information: insurance policy information, connected to the claim with the insurance company.\n",
    "dfp = pd.read_csv(r\"C:\\Users\\Soorya\\Documents\\capstone-files\\TrainData\\Data\\Train_Policy.csv\",na_values=[\"-1\", \"MISSINGVAL\",\"NA\"])\n",
    "print(dfp.shape)\n",
    "dfp.head()\n",
    "\n",
    "#Policy_CombinedSingleLimit -- seems to convert into percentage \n",
    "#InsuredRelationship -- maybe marital status"
   ]
  },
  {
   "cell_type": "code",
   "execution_count": 7,
   "id": "80643dc0",
   "metadata": {},
   "outputs": [
    {
     "data": {
      "text/plain": [
       "141"
      ]
     },
     "execution_count": 7,
     "metadata": {},
     "output_type": "execute_result"
    }
   ],
   "source": [
    "dfp.isnull().sum().sum()"
   ]
  },
  {
   "cell_type": "code",
   "execution_count": 8,
   "id": "e9e92c6b",
   "metadata": {},
   "outputs": [
    {
     "data": {
      "text/plain": [
       "1266.44"
      ]
     },
     "execution_count": 8,
     "metadata": {},
     "output_type": "execute_result"
    }
   ],
   "source": [
    "dfp['PolicyAnnualPremium'].median()"
   ]
  },
  {
   "cell_type": "code",
   "execution_count": 9,
   "id": "fd166298",
   "metadata": {
    "scrolled": true
   },
   "outputs": [],
   "source": [
    "# null value is replaced with median value\n",
    "\n",
    "dfp['PolicyAnnualPremium'].fillna(dfp['PolicyAnnualPremium'].median(),inplace=True)"
   ]
  },
  {
   "cell_type": "code",
   "execution_count": 10,
   "id": "75327518",
   "metadata": {},
   "outputs": [
    {
     "data": {
      "text/plain": [
       "0"
      ]
     },
     "execution_count": 10,
     "metadata": {},
     "output_type": "execute_result"
    }
   ],
   "source": [
    "dfp.isnull().sum().sum()"
   ]
  },
  {
   "cell_type": "markdown",
   "id": "b0af475b",
   "metadata": {},
   "source": [
    "## Reading the Vehicle Information data set"
   ]
  },
  {
   "cell_type": "code",
   "execution_count": 12,
   "id": "7cd9e990",
   "metadata": {},
   "outputs": [
    {
     "name": "stdout",
     "output_type": "stream",
     "text": [
      "(115344, 5)\n"
     ]
    },
    {
     "data": {
      "text/html": [
       "<div>\n",
       "<style scoped>\n",
       "    .dataframe tbody tr th:only-of-type {\n",
       "        vertical-align: middle;\n",
       "    }\n",
       "\n",
       "    .dataframe tbody tr th {\n",
       "        vertical-align: top;\n",
       "    }\n",
       "\n",
       "    .dataframe thead th {\n",
       "        text-align: right;\n",
       "    }\n",
       "</style>\n",
       "<table border=\"1\" class=\"dataframe\">\n",
       "  <thead>\n",
       "    <tr style=\"text-align: right;\">\n",
       "      <th></th>\n",
       "      <th>CustomerID</th>\n",
       "      <th>VehicleYOM</th>\n",
       "      <th>VehicleModel</th>\n",
       "      <th>VehicleID</th>\n",
       "      <th>VehicleMake</th>\n",
       "    </tr>\n",
       "  </thead>\n",
       "  <tbody>\n",
       "    <tr>\n",
       "      <th>0</th>\n",
       "      <td>Cust20179</td>\n",
       "      <td>2011</td>\n",
       "      <td>Forrestor</td>\n",
       "      <td>Vehicle8898</td>\n",
       "      <td>BMW</td>\n",
       "    </tr>\n",
       "    <tr>\n",
       "      <th>1</th>\n",
       "      <td>Cust21384</td>\n",
       "      <td>2010</td>\n",
       "      <td>Malibu</td>\n",
       "      <td>Vehicle18688</td>\n",
       "      <td>Chevrolet</td>\n",
       "    </tr>\n",
       "    <tr>\n",
       "      <th>2</th>\n",
       "      <td>Cust33335</td>\n",
       "      <td>2001</td>\n",
       "      <td>Highlander</td>\n",
       "      <td>Vehicle8998</td>\n",
       "      <td>Toyota</td>\n",
       "    </tr>\n",
       "    <tr>\n",
       "      <th>3</th>\n",
       "      <td>Cust27118</td>\n",
       "      <td>1998</td>\n",
       "      <td>Neon</td>\n",
       "      <td>Vehicle28504</td>\n",
       "      <td>Saab</td>\n",
       "    </tr>\n",
       "    <tr>\n",
       "      <th>4</th>\n",
       "      <td>Cust13038</td>\n",
       "      <td>2000</td>\n",
       "      <td>Maxima</td>\n",
       "      <td>Vehicle30212</td>\n",
       "      <td>Toyota</td>\n",
       "    </tr>\n",
       "  </tbody>\n",
       "</table>\n",
       "</div>"
      ],
      "text/plain": [
       "  CustomerID  VehicleYOM VehicleModel     VehicleID VehicleMake\n",
       "0  Cust20179        2011    Forrestor   Vehicle8898         BMW\n",
       "1  Cust21384        2010       Malibu  Vehicle18688   Chevrolet\n",
       "2  Cust33335        2001   Highlander   Vehicle8998      Toyota\n",
       "3  Cust27118        1998         Neon  Vehicle28504        Saab\n",
       "4  Cust13038        2000       Maxima  Vehicle30212      Toyota"
      ]
     },
     "execution_count": 12,
     "metadata": {},
     "output_type": "execute_result"
    }
   ],
   "source": [
    "#Data of Vehicle : These files consist of the details about the Vehicle, connected to the policy. \n",
    "dfv = pd.read_csv(\"Vehicles_clean.csv\",na_values=[\"???\"])\n",
    "dfv['VehicleModel'] = dfv['VehicleModel'].apply(lambda x: x[2:-2])\n",
    "dfv['VehicleID'] = dfv['VehicleID'].apply(lambda x: x[2:-2])\n",
    "dfv['VehicleMake'] = dfv['VehicleMake'].apply(lambda x: x[2:-2])\n",
    "print(dfv.shape)\n",
    "dfv.head()"
   ]
  },
  {
   "cell_type": "code",
   "execution_count": 13,
   "id": "6a8ca050",
   "metadata": {},
   "outputs": [
    {
     "data": {
      "text/plain": [
       "0"
      ]
     },
     "execution_count": 13,
     "metadata": {},
     "output_type": "execute_result"
    }
   ],
   "source": [
    "dfv.isnull().sum().sum()"
   ]
  },
  {
   "cell_type": "code",
   "execution_count": 14,
   "id": "d56a3243",
   "metadata": {},
   "outputs": [
    {
     "data": {
      "text/plain": [
       "86508"
      ]
     },
     "execution_count": 14,
     "metadata": {},
     "output_type": "execute_result"
    }
   ],
   "source": [
    "dfv.duplicated().sum()"
   ]
  },
  {
   "cell_type": "code",
   "execution_count": 15,
   "id": "65911214",
   "metadata": {},
   "outputs": [],
   "source": [
    "dfv.drop_duplicates(inplace=True)"
   ]
  },
  {
   "cell_type": "code",
   "execution_count": 16,
   "id": "41dc2437",
   "metadata": {},
   "outputs": [
    {
     "data": {
      "text/plain": [
       "(28836, 5)"
      ]
     },
     "execution_count": 16,
     "metadata": {},
     "output_type": "execute_result"
    }
   ],
   "source": [
    "dfv.shape"
   ]
  },
  {
   "cell_type": "markdown",
   "id": "34d90cd9",
   "metadata": {},
   "source": [
    "## Reading the Fraud Information data set"
   ]
  },
  {
   "cell_type": "code",
   "execution_count": 17,
   "id": "77b6f321",
   "metadata": {
    "scrolled": true
   },
   "outputs": [
    {
     "name": "stdout",
     "output_type": "stream",
     "text": [
      "(28836, 2)\n"
     ]
    },
    {
     "data": {
      "text/html": [
       "<div>\n",
       "<style scoped>\n",
       "    .dataframe tbody tr th:only-of-type {\n",
       "        vertical-align: middle;\n",
       "    }\n",
       "\n",
       "    .dataframe tbody tr th {\n",
       "        vertical-align: top;\n",
       "    }\n",
       "\n",
       "    .dataframe thead th {\n",
       "        text-align: right;\n",
       "    }\n",
       "</style>\n",
       "<table border=\"1\" class=\"dataframe\">\n",
       "  <thead>\n",
       "    <tr style=\"text-align: right;\">\n",
       "      <th></th>\n",
       "      <th>CustomerID</th>\n",
       "      <th>ReportedFraud</th>\n",
       "    </tr>\n",
       "  </thead>\n",
       "  <tbody>\n",
       "    <tr>\n",
       "      <th>0</th>\n",
       "      <td>Cust20065</td>\n",
       "      <td>N</td>\n",
       "    </tr>\n",
       "    <tr>\n",
       "      <th>1</th>\n",
       "      <td>Cust37589</td>\n",
       "      <td>N</td>\n",
       "    </tr>\n",
       "    <tr>\n",
       "      <th>2</th>\n",
       "      <td>Cust24312</td>\n",
       "      <td>N</td>\n",
       "    </tr>\n",
       "    <tr>\n",
       "      <th>3</th>\n",
       "      <td>Cust5493</td>\n",
       "      <td>Y</td>\n",
       "    </tr>\n",
       "    <tr>\n",
       "      <th>4</th>\n",
       "      <td>Cust7704</td>\n",
       "      <td>Y</td>\n",
       "    </tr>\n",
       "  </tbody>\n",
       "</table>\n",
       "</div>"
      ],
      "text/plain": [
       "  CustomerID ReportedFraud\n",
       "0  Cust20065             N\n",
       "1  Cust37589             N\n",
       "2  Cust24312             N\n",
       "3   Cust5493             Y\n",
       "4   Cust7704             Y"
      ]
     },
     "execution_count": 17,
     "metadata": {},
     "output_type": "execute_result"
    }
   ],
   "source": [
    "# Fraud Data : This Train.csv contains the Fraud information details\n",
    "dfwt = pd.read_csv(r\"C:\\Users\\Soorya\\Documents\\capstone-files\\TrainData\\Data\\Traindata_with_Target.csv\")\n",
    "print(dfwt.shape)\n",
    "dfwt.head()"
   ]
  },
  {
   "cell_type": "code",
   "execution_count": 18,
   "id": "ddce7b8d",
   "metadata": {},
   "outputs": [
    {
     "data": {
      "text/plain": [
       "0"
      ]
     },
     "execution_count": 18,
     "metadata": {},
     "output_type": "execute_result"
    }
   ],
   "source": [
    "dfwt.isnull().sum().sum()"
   ]
  },
  {
   "cell_type": "code",
   "execution_count": 19,
   "id": "c9fd793e",
   "metadata": {},
   "outputs": [
    {
     "name": "stdout",
     "output_type": "stream",
     "text": [
      "(28836, 21)\n",
      "(28836, 9)\n",
      "(28836, 10)\n",
      "(28836, 5)\n",
      "(28836, 2)\n"
     ]
    }
   ],
   "source": [
    "print(dfc.shape)\n",
    "print(dfd.shape)\n",
    "print(dfp.shape)\n",
    "print(dfv.shape)\n",
    "print(dfwt.shape)"
   ]
  },
  {
   "cell_type": "code",
   "execution_count": 20,
   "id": "a1b508d0",
   "metadata": {},
   "outputs": [],
   "source": [
    "# we need to perform merge on all the dataframes.\n",
    "df = dfd.merge(dfp).merge(dfv).merge(dfc).merge(dfwt)"
   ]
  },
  {
   "cell_type": "code",
   "execution_count": 21,
   "id": "0a817a0c",
   "metadata": {},
   "outputs": [
    {
     "data": {
      "text/plain": [
       "(28836, 43)"
      ]
     },
     "execution_count": 21,
     "metadata": {},
     "output_type": "execute_result"
    }
   ],
   "source": [
    "df.shape"
   ]
  },
  {
   "cell_type": "code",
   "execution_count": 22,
   "id": "297b4efa",
   "metadata": {},
   "outputs": [
    {
     "data": {
      "text/html": [
       "<div>\n",
       "<style scoped>\n",
       "    .dataframe tbody tr th:only-of-type {\n",
       "        vertical-align: middle;\n",
       "    }\n",
       "\n",
       "    .dataframe tbody tr th {\n",
       "        vertical-align: top;\n",
       "    }\n",
       "\n",
       "    .dataframe thead th {\n",
       "        text-align: right;\n",
       "    }\n",
       "</style>\n",
       "<table border=\"1\" class=\"dataframe\">\n",
       "  <thead>\n",
       "    <tr style=\"text-align: right;\">\n",
       "      <th></th>\n",
       "      <th>CustomerID</th>\n",
       "      <th>InsuredAge</th>\n",
       "      <th>InsuredZipCode</th>\n",
       "      <th>InsuredGender</th>\n",
       "      <th>InsuredEducationLevel</th>\n",
       "      <th>InsuredOccupation</th>\n",
       "      <th>InsuredHobbies</th>\n",
       "      <th>CapitalGains</th>\n",
       "      <th>CapitalLoss</th>\n",
       "      <th>InsurancePolicyNumber</th>\n",
       "      <th>...</th>\n",
       "      <th>Witnesses</th>\n",
       "      <th>PoliceReport</th>\n",
       "      <th>AmountOfTotalClaim</th>\n",
       "      <th>AmountOfInjuryClaim</th>\n",
       "      <th>AmountOfPropertyClaim</th>\n",
       "      <th>AmountOfVehicleDamage</th>\n",
       "      <th>Year</th>\n",
       "      <th>Month</th>\n",
       "      <th>days</th>\n",
       "      <th>ReportedFraud</th>\n",
       "    </tr>\n",
       "  </thead>\n",
       "  <tbody>\n",
       "    <tr>\n",
       "      <th>0</th>\n",
       "      <td>Cust10000</td>\n",
       "      <td>35</td>\n",
       "      <td>454776</td>\n",
       "      <td>MALE</td>\n",
       "      <td>JD</td>\n",
       "      <td>armed-forces</td>\n",
       "      <td>movies</td>\n",
       "      <td>56700</td>\n",
       "      <td>-48500</td>\n",
       "      <td>119121</td>\n",
       "      <td>...</td>\n",
       "      <td>0.0</td>\n",
       "      <td>NoReport</td>\n",
       "      <td>65501.0</td>\n",
       "      <td>13417</td>\n",
       "      <td>6071</td>\n",
       "      <td>46013</td>\n",
       "      <td>2015</td>\n",
       "      <td>2</td>\n",
       "      <td>3</td>\n",
       "      <td>N</td>\n",
       "    </tr>\n",
       "    <tr>\n",
       "      <th>1</th>\n",
       "      <td>Cust10001</td>\n",
       "      <td>36</td>\n",
       "      <td>454776</td>\n",
       "      <td>MALE</td>\n",
       "      <td>JD</td>\n",
       "      <td>tech-support</td>\n",
       "      <td>cross-fit</td>\n",
       "      <td>70600</td>\n",
       "      <td>-48500</td>\n",
       "      <td>119122</td>\n",
       "      <td>...</td>\n",
       "      <td>1.0</td>\n",
       "      <td>YES</td>\n",
       "      <td>61382.0</td>\n",
       "      <td>15560</td>\n",
       "      <td>5919</td>\n",
       "      <td>39903</td>\n",
       "      <td>2015</td>\n",
       "      <td>2</td>\n",
       "      <td>2</td>\n",
       "      <td>N</td>\n",
       "    </tr>\n",
       "    <tr>\n",
       "      <th>2</th>\n",
       "      <td>Cust10002</td>\n",
       "      <td>33</td>\n",
       "      <td>603260</td>\n",
       "      <td>MALE</td>\n",
       "      <td>JD</td>\n",
       "      <td>armed-forces</td>\n",
       "      <td>polo</td>\n",
       "      <td>66400</td>\n",
       "      <td>-63700</td>\n",
       "      <td>119123</td>\n",
       "      <td>...</td>\n",
       "      <td>3.0</td>\n",
       "      <td>NO</td>\n",
       "      <td>66755.0</td>\n",
       "      <td>11630</td>\n",
       "      <td>11630</td>\n",
       "      <td>43495</td>\n",
       "      <td>2015</td>\n",
       "      <td>1</td>\n",
       "      <td>15</td>\n",
       "      <td>N</td>\n",
       "    </tr>\n",
       "    <tr>\n",
       "      <th>3</th>\n",
       "      <td>Cust10003</td>\n",
       "      <td>36</td>\n",
       "      <td>474848</td>\n",
       "      <td>MALE</td>\n",
       "      <td>JD</td>\n",
       "      <td>armed-forces</td>\n",
       "      <td>polo</td>\n",
       "      <td>47900</td>\n",
       "      <td>-73400</td>\n",
       "      <td>119124</td>\n",
       "      <td>...</td>\n",
       "      <td>3.0</td>\n",
       "      <td>NO</td>\n",
       "      <td>66243.0</td>\n",
       "      <td>12003</td>\n",
       "      <td>12003</td>\n",
       "      <td>42237</td>\n",
       "      <td>2015</td>\n",
       "      <td>1</td>\n",
       "      <td>19</td>\n",
       "      <td>N</td>\n",
       "    </tr>\n",
       "    <tr>\n",
       "      <th>4</th>\n",
       "      <td>Cust10004</td>\n",
       "      <td>29</td>\n",
       "      <td>457942</td>\n",
       "      <td>FEMALE</td>\n",
       "      <td>High School</td>\n",
       "      <td>exec-managerial</td>\n",
       "      <td>dancing</td>\n",
       "      <td>0</td>\n",
       "      <td>-41500</td>\n",
       "      <td>119125</td>\n",
       "      <td>...</td>\n",
       "      <td>1.0</td>\n",
       "      <td>YES</td>\n",
       "      <td>53544.0</td>\n",
       "      <td>8829</td>\n",
       "      <td>7234</td>\n",
       "      <td>37481</td>\n",
       "      <td>2015</td>\n",
       "      <td>1</td>\n",
       "      <td>9</td>\n",
       "      <td>N</td>\n",
       "    </tr>\n",
       "  </tbody>\n",
       "</table>\n",
       "<p>5 rows × 43 columns</p>\n",
       "</div>"
      ],
      "text/plain": [
       "  CustomerID  InsuredAge  InsuredZipCode InsuredGender InsuredEducationLevel  \\\n",
       "0  Cust10000          35          454776          MALE                    JD   \n",
       "1  Cust10001          36          454776          MALE                    JD   \n",
       "2  Cust10002          33          603260          MALE                    JD   \n",
       "3  Cust10003          36          474848          MALE                    JD   \n",
       "4  Cust10004          29          457942        FEMALE           High School   \n",
       "\n",
       "  InsuredOccupation InsuredHobbies  CapitalGains  CapitalLoss  \\\n",
       "0      armed-forces         movies         56700       -48500   \n",
       "1      tech-support      cross-fit         70600       -48500   \n",
       "2      armed-forces           polo         66400       -63700   \n",
       "3      armed-forces           polo         47900       -73400   \n",
       "4   exec-managerial        dancing             0       -41500   \n",
       "\n",
       "   InsurancePolicyNumber  ...  Witnesses PoliceReport AmountOfTotalClaim  \\\n",
       "0                 119121  ...        0.0     NoReport            65501.0   \n",
       "1                 119122  ...        1.0          YES            61382.0   \n",
       "2                 119123  ...        3.0           NO            66755.0   \n",
       "3                 119124  ...        3.0           NO            66243.0   \n",
       "4                 119125  ...        1.0          YES            53544.0   \n",
       "\n",
       "  AmountOfInjuryClaim  AmountOfPropertyClaim  AmountOfVehicleDamage  Year  \\\n",
       "0               13417                   6071                  46013  2015   \n",
       "1               15560                   5919                  39903  2015   \n",
       "2               11630                  11630                  43495  2015   \n",
       "3               12003                  12003                  42237  2015   \n",
       "4                8829                   7234                  37481  2015   \n",
       "\n",
       "  Month  days ReportedFraud  \n",
       "0     2     3             N  \n",
       "1     2     2             N  \n",
       "2     1    15             N  \n",
       "3     1    19             N  \n",
       "4     1     9             N  \n",
       "\n",
       "[5 rows x 43 columns]"
      ]
     },
     "execution_count": 22,
     "metadata": {},
     "output_type": "execute_result"
    }
   ],
   "source": [
    "df.head()"
   ]
  },
  {
   "cell_type": "code",
   "execution_count": 23,
   "id": "57eeb8c5",
   "metadata": {},
   "outputs": [
    {
     "data": {
      "text/plain": [
       "0"
      ]
     },
     "execution_count": 23,
     "metadata": {},
     "output_type": "execute_result"
    }
   ],
   "source": [
    "df.isnull().sum().sum()"
   ]
  },
  {
   "cell_type": "code",
   "execution_count": 24,
   "id": "2fc45084",
   "metadata": {},
   "outputs": [],
   "source": [
    "# storing the file merged file as final_data.csv\n",
    "df.to_csv(\"final_data.csv\")"
   ]
  },
  {
   "cell_type": "code",
   "execution_count": null,
   "id": "7944442f",
   "metadata": {},
   "outputs": [],
   "source": []
  }
 ],
 "metadata": {
  "kernelspec": {
   "display_name": "Python 3 (ipykernel)",
   "language": "python",
   "name": "python3"
  },
  "language_info": {
   "codemirror_mode": {
    "name": "ipython",
    "version": 3
   },
   "file_extension": ".py",
   "mimetype": "text/x-python",
   "name": "python",
   "nbconvert_exporter": "python",
   "pygments_lexer": "ipython3",
   "version": "3.9.13"
  }
 },
 "nbformat": 4,
 "nbformat_minor": 5
}

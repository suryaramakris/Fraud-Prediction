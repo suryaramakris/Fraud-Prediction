{
 "cells": [
  {
   "cell_type": "code",
   "execution_count": 8,
   "id": "8ce6a68d",
   "metadata": {},
   "outputs": [],
   "source": [
    "import pandas as pd\n",
    "import numpy as np\n"
   ]
  },
  {
   "cell_type": "code",
   "execution_count": 9,
   "id": "ec817f93",
   "metadata": {},
   "outputs": [
    {
     "name": "stdout",
     "output_type": "stream",
     "text": [
      "(115344, 3)\n"
     ]
    },
    {
     "data": {
      "text/html": [
       "<div>\n",
       "<style scoped>\n",
       "    .dataframe tbody tr th:only-of-type {\n",
       "        vertical-align: middle;\n",
       "    }\n",
       "\n",
       "    .dataframe tbody tr th {\n",
       "        vertical-align: top;\n",
       "    }\n",
       "\n",
       "    .dataframe thead th {\n",
       "        text-align: right;\n",
       "    }\n",
       "</style>\n",
       "<table border=\"1\" class=\"dataframe\">\n",
       "  <thead>\n",
       "    <tr style=\"text-align: right;\">\n",
       "      <th></th>\n",
       "      <th>CustomerID</th>\n",
       "      <th>VehicleAttribute</th>\n",
       "      <th>VehicleAttributeDetails</th>\n",
       "    </tr>\n",
       "  </thead>\n",
       "  <tbody>\n",
       "    <tr>\n",
       "      <th>0</th>\n",
       "      <td>Cust20179</td>\n",
       "      <td>VehicleID</td>\n",
       "      <td>Vehicle8898</td>\n",
       "    </tr>\n",
       "    <tr>\n",
       "      <th>1</th>\n",
       "      <td>Cust21384</td>\n",
       "      <td>VehicleModel</td>\n",
       "      <td>Malibu</td>\n",
       "    </tr>\n",
       "    <tr>\n",
       "      <th>2</th>\n",
       "      <td>Cust33335</td>\n",
       "      <td>VehicleMake</td>\n",
       "      <td>Toyota</td>\n",
       "    </tr>\n",
       "    <tr>\n",
       "      <th>3</th>\n",
       "      <td>Cust27118</td>\n",
       "      <td>VehicleModel</td>\n",
       "      <td>Neon</td>\n",
       "    </tr>\n",
       "    <tr>\n",
       "      <th>4</th>\n",
       "      <td>Cust13038</td>\n",
       "      <td>VehicleID</td>\n",
       "      <td>Vehicle30212</td>\n",
       "    </tr>\n",
       "  </tbody>\n",
       "</table>\n",
       "</div>"
      ],
      "text/plain": [
       "  CustomerID VehicleAttribute VehicleAttributeDetails\n",
       "0  Cust20179        VehicleID             Vehicle8898\n",
       "1  Cust21384     VehicleModel                  Malibu\n",
       "2  Cust33335      VehicleMake                  Toyota\n",
       "3  Cust27118     VehicleModel                    Neon\n",
       "4  Cust13038        VehicleID            Vehicle30212"
      ]
     },
     "execution_count": 9,
     "metadata": {},
     "output_type": "execute_result"
    }
   ],
   "source": [
    "dfv = pd.read_csv(r\"C:\\Users\\Soorya\\Documents\\capstone-files\\TrainData\\Data\\Train_Vehicle.csv\",na_values=['???'])\n",
    "print(dfv.shape)\n",
    "dfv.head()"
   ]
  },
  {
   "cell_type": "code",
   "execution_count": 5,
   "id": "8473ecb3",
   "metadata": {},
   "outputs": [],
   "source": [
    "def YOM(x):\n",
    "    a = dfv[dfv['CustomerID']==x].copy()\n",
    "    return int(a[a['VehicleAttribute']==\"VehicleYOM\"][\"VehicleAttributeDetails\"].values)\n",
    "\n",
    "dfv['VehicleYOM'] = dfv['CustomerID'].apply(lambda x: YOM(x))"
   ]
  },
  {
   "cell_type": "code",
   "execution_count": 6,
   "id": "e879cfbc",
   "metadata": {},
   "outputs": [],
   "source": [
    "def Model(x):\n",
    "    a = dfv[dfv['CustomerID']==x].copy()\n",
    "    return a[a['VehicleAttribute']==\"VehicleModel\"][\"VehicleAttributeDetails\"].values\n",
    "\n",
    "dfv['VehicleModel'] = dfv['CustomerID'].apply(lambda x: Model(x))"
   ]
  },
  {
   "cell_type": "code",
   "execution_count": 7,
   "id": "c41c2b05",
   "metadata": {},
   "outputs": [],
   "source": [
    "def ID(x):\n",
    "    a = dfv[dfv['CustomerID']==x].copy()\n",
    "    return str(a[a['VehicleAttribute']==\"VehicleID\"][\"VehicleAttributeDetails\"].values)\n",
    "\n",
    "dfv['VehicleID'] = dfv['CustomerID'].apply(lambda x: ID(x))"
   ]
  },
  {
   "cell_type": "code",
   "execution_count": 8,
   "id": "ae0b645a",
   "metadata": {},
   "outputs": [],
   "source": [
    "def Make(x):\n",
    "    a = dfv[dfv['CustomerID']==x].copy()\n",
    "    return a[a['VehicleAttribute']==\"VehicleMake\"][\"VehicleAttributeDetails\"].values\n",
    "\n",
    "dfv['VehicleMake'] = dfv['CustomerID'].apply(lambda x: Make(x))"
   ]
  },
  {
   "cell_type": "code",
   "execution_count": 9,
   "id": "67f7b373",
   "metadata": {},
   "outputs": [
    {
     "data": {
      "text/html": [
       "<div>\n",
       "<style scoped>\n",
       "    .dataframe tbody tr th:only-of-type {\n",
       "        vertical-align: middle;\n",
       "    }\n",
       "\n",
       "    .dataframe tbody tr th {\n",
       "        vertical-align: top;\n",
       "    }\n",
       "\n",
       "    .dataframe thead th {\n",
       "        text-align: right;\n",
       "    }\n",
       "</style>\n",
       "<table border=\"1\" class=\"dataframe\">\n",
       "  <thead>\n",
       "    <tr style=\"text-align: right;\">\n",
       "      <th></th>\n",
       "      <th>CustomerID</th>\n",
       "      <th>VehicleAttribute</th>\n",
       "      <th>VehicleAttributeDetails</th>\n",
       "      <th>VehicleYOM</th>\n",
       "      <th>VehicleModel</th>\n",
       "      <th>VehicleID</th>\n",
       "      <th>VehicleMake</th>\n",
       "    </tr>\n",
       "  </thead>\n",
       "  <tbody>\n",
       "    <tr>\n",
       "      <th>0</th>\n",
       "      <td>Cust20179</td>\n",
       "      <td>VehicleID</td>\n",
       "      <td>Vehicle8898</td>\n",
       "      <td>2011</td>\n",
       "      <td>[Forrestor]</td>\n",
       "      <td>['Vehicle8898']</td>\n",
       "      <td>[BMW]</td>\n",
       "    </tr>\n",
       "    <tr>\n",
       "      <th>1</th>\n",
       "      <td>Cust21384</td>\n",
       "      <td>VehicleModel</td>\n",
       "      <td>Malibu</td>\n",
       "      <td>2010</td>\n",
       "      <td>[Malibu]</td>\n",
       "      <td>['Vehicle18688']</td>\n",
       "      <td>[Chevrolet]</td>\n",
       "    </tr>\n",
       "    <tr>\n",
       "      <th>2</th>\n",
       "      <td>Cust33335</td>\n",
       "      <td>VehicleMake</td>\n",
       "      <td>Toyota</td>\n",
       "      <td>2001</td>\n",
       "      <td>[Highlander]</td>\n",
       "      <td>['Vehicle8998']</td>\n",
       "      <td>[Toyota]</td>\n",
       "    </tr>\n",
       "    <tr>\n",
       "      <th>3</th>\n",
       "      <td>Cust27118</td>\n",
       "      <td>VehicleModel</td>\n",
       "      <td>Neon</td>\n",
       "      <td>1998</td>\n",
       "      <td>[Neon]</td>\n",
       "      <td>['Vehicle28504']</td>\n",
       "      <td>[Saab]</td>\n",
       "    </tr>\n",
       "    <tr>\n",
       "      <th>4</th>\n",
       "      <td>Cust13038</td>\n",
       "      <td>VehicleID</td>\n",
       "      <td>Vehicle30212</td>\n",
       "      <td>2000</td>\n",
       "      <td>[Maxima]</td>\n",
       "      <td>['Vehicle30212']</td>\n",
       "      <td>[Toyota]</td>\n",
       "    </tr>\n",
       "  </tbody>\n",
       "</table>\n",
       "</div>"
      ],
      "text/plain": [
       "  CustomerID VehicleAttribute VehicleAttributeDetails  VehicleYOM  \\\n",
       "0  Cust20179        VehicleID             Vehicle8898        2011   \n",
       "1  Cust21384     VehicleModel                  Malibu        2010   \n",
       "2  Cust33335      VehicleMake                  Toyota        2001   \n",
       "3  Cust27118     VehicleModel                    Neon        1998   \n",
       "4  Cust13038        VehicleID            Vehicle30212        2000   \n",
       "\n",
       "   VehicleModel         VehicleID  VehicleMake  \n",
       "0   [Forrestor]   ['Vehicle8898']        [BMW]  \n",
       "1      [Malibu]  ['Vehicle18688']  [Chevrolet]  \n",
       "2  [Highlander]   ['Vehicle8998']     [Toyota]  \n",
       "3        [Neon]  ['Vehicle28504']       [Saab]  \n",
       "4      [Maxima]  ['Vehicle30212']     [Toyota]  "
      ]
     },
     "execution_count": 9,
     "metadata": {},
     "output_type": "execute_result"
    }
   ],
   "source": [
    "dfv.head()"
   ]
  },
  {
   "cell_type": "code",
   "execution_count": 10,
   "id": "e98ce5dd",
   "metadata": {},
   "outputs": [],
   "source": [
    "dfv.drop([\"VehicleAttribute\",\"VehicleAttributeDetails\"],axis=1,inplace=True)"
   ]
  },
  {
   "cell_type": "code",
   "execution_count": 11,
   "id": "cba1f125",
   "metadata": {},
   "outputs": [
    {
     "data": {
      "text/html": [
       "<div>\n",
       "<style scoped>\n",
       "    .dataframe tbody tr th:only-of-type {\n",
       "        vertical-align: middle;\n",
       "    }\n",
       "\n",
       "    .dataframe tbody tr th {\n",
       "        vertical-align: top;\n",
       "    }\n",
       "\n",
       "    .dataframe thead th {\n",
       "        text-align: right;\n",
       "    }\n",
       "</style>\n",
       "<table border=\"1\" class=\"dataframe\">\n",
       "  <thead>\n",
       "    <tr style=\"text-align: right;\">\n",
       "      <th></th>\n",
       "      <th>CustomerID</th>\n",
       "      <th>VehicleYOM</th>\n",
       "      <th>VehicleModel</th>\n",
       "      <th>VehicleID</th>\n",
       "      <th>VehicleMake</th>\n",
       "    </tr>\n",
       "  </thead>\n",
       "  <tbody>\n",
       "    <tr>\n",
       "      <th>0</th>\n",
       "      <td>Cust20179</td>\n",
       "      <td>2011</td>\n",
       "      <td>[Forrestor]</td>\n",
       "      <td>['Vehicle8898']</td>\n",
       "      <td>[BMW]</td>\n",
       "    </tr>\n",
       "    <tr>\n",
       "      <th>1</th>\n",
       "      <td>Cust21384</td>\n",
       "      <td>2010</td>\n",
       "      <td>[Malibu]</td>\n",
       "      <td>['Vehicle18688']</td>\n",
       "      <td>[Chevrolet]</td>\n",
       "    </tr>\n",
       "    <tr>\n",
       "      <th>2</th>\n",
       "      <td>Cust33335</td>\n",
       "      <td>2001</td>\n",
       "      <td>[Highlander]</td>\n",
       "      <td>['Vehicle8998']</td>\n",
       "      <td>[Toyota]</td>\n",
       "    </tr>\n",
       "    <tr>\n",
       "      <th>3</th>\n",
       "      <td>Cust27118</td>\n",
       "      <td>1998</td>\n",
       "      <td>[Neon]</td>\n",
       "      <td>['Vehicle28504']</td>\n",
       "      <td>[Saab]</td>\n",
       "    </tr>\n",
       "    <tr>\n",
       "      <th>4</th>\n",
       "      <td>Cust13038</td>\n",
       "      <td>2000</td>\n",
       "      <td>[Maxima]</td>\n",
       "      <td>['Vehicle30212']</td>\n",
       "      <td>[Toyota]</td>\n",
       "    </tr>\n",
       "  </tbody>\n",
       "</table>\n",
       "</div>"
      ],
      "text/plain": [
       "  CustomerID  VehicleYOM  VehicleModel         VehicleID  VehicleMake\n",
       "0  Cust20179        2011   [Forrestor]   ['Vehicle8898']        [BMW]\n",
       "1  Cust21384        2010      [Malibu]  ['Vehicle18688']  [Chevrolet]\n",
       "2  Cust33335        2001  [Highlander]   ['Vehicle8998']     [Toyota]\n",
       "3  Cust27118        1998        [Neon]  ['Vehicle28504']       [Saab]\n",
       "4  Cust13038        2000      [Maxima]  ['Vehicle30212']     [Toyota]"
      ]
     },
     "execution_count": 11,
     "metadata": {},
     "output_type": "execute_result"
    }
   ],
   "source": [
    "dfv.head()"
   ]
  },
  {
   "cell_type": "code",
   "execution_count": 12,
   "id": "919fbc8f",
   "metadata": {},
   "outputs": [],
   "source": [
    "dfv.to_csv(\"Vehicles_clean.csv\",index=False)"
   ]
  },
  {
   "cell_type": "code",
   "execution_count": 22,
   "id": "1a8501c3",
   "metadata": {},
   "outputs": [
    {
     "data": {
      "text/plain": [
       "0"
      ]
     },
     "execution_count": 22,
     "metadata": {},
     "output_type": "execute_result"
    }
   ],
   "source": [
    "ff = pd.read_csv(\"Vehicles_clean.csv\")\n",
    "ff.isnull().sum().sum()"
   ]
  },
  {
   "cell_type": "code",
   "execution_count": null,
   "id": "d8ca7fc9",
   "metadata": {},
   "outputs": [],
   "source": []
  }
 ],
 "metadata": {
  "kernelspec": {
   "display_name": "Python 3 (ipykernel)",
   "language": "python",
   "name": "python3"
  },
  "language_info": {
   "codemirror_mode": {
    "name": "ipython",
    "version": 3
   },
   "file_extension": ".py",
   "mimetype": "text/x-python",
   "name": "python",
   "nbconvert_exporter": "python",
   "pygments_lexer": "ipython3",
   "version": "3.9.13"
  }
 },
 "nbformat": 4,
 "nbformat_minor": 5
}

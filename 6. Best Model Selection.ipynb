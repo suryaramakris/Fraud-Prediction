{
 "cells": [
  {
   "cell_type": "markdown",
   "id": "ca93e7f4",
   "metadata": {},
   "source": [
    "</div>\n",
    "\n",
    "# <center><div class=\"alert alert-success\">Fraud detection in auto insurance claims</div></center>\n",
    "### <div class=\"alert alert-danger\">Problem Statement:</br> To predict the fraud in auto insurance claims based on the demographic, policy, claim, and vehilce related features provided in the datasets and also generate the top 20 patterns for fraud on target attribute.</div>\n",
    "<div class=\"alert alert-info\"> Data Provided: </br>\n",
    "    1) Demographics Data: These files consist of the demographic data of each customer</br>\n",
    "    2) Policy Information: These files consist of the customer auto insurance policy information,connected to the claim with the insurance company.</br>\n",
    "    3) Data of Claim: These files consist of the details about the insurance claim, that the customer applied.</br>\n",
    "    4) Data of Vehicle: These files consist of the details about the Vehicle. </br>\n",
    "    5) Fraud Data: This Train.csv table contains the Fraud information details, like CustomerID, ReportedFraud.</div>\n",
    "<div class=\"alert alert-warning\">Evaluation metrics: </br> Just classifing a given customer details into fraud and Not fraud and blocking a genuine transaction for long time would bring bad impact on customer experience rather I consider providing probability score for each class and based on that the if there is a higher probability of transaction being fraud we might send that details to insurance company to have more checks instead of checking every customer details. Also by having more business understanding probability score helps to vary the threshold for considering any customer details as Fraud and Genuine.</br> \n",
    "    \n",
    "    Further, as it is important for insurance company to not miss out on any Fraudulent cases, considering Precision, Recall, and F1-score as metric as it stress more on correctly classifying the case of TRUE POSITIVE will be more precise in this case.</br>\n",
    "    \n",
    "&#10148; Log-Loss</br>\n",
    "&#10148; Confusion Metrics</br>\n",
    "&#10148; F1-score / F1 statistic</br></div>"
   ]
  },
  {
   "cell_type": "code",
   "execution_count": 1,
   "id": "8b5af6ef",
   "metadata": {},
   "outputs": [],
   "source": [
    "# importing necessary libraries \n",
    "import pandas as pd\n",
    "import numpy as np\n",
    "import matplotlib.pyplot as plt\n",
    "import seaborn as sns\n",
    "import random\n",
    "\n",
    "import category_encoders as ce\n",
    "from sklearn.model_selection import train_test_split\n",
    "from sklearn.preprocessing import MinMaxScaler, StandardScaler\n",
    "from sklearn.model_selection import GridSearchCV\n",
    "\n",
    "from sklearn.neighbors import KNeighborsClassifier\n",
    "from sklearn.naive_bayes import BernoulliNB\n",
    "from sklearn.linear_model import LogisticRegression\n",
    "from sklearn.tree import DecisionTreeClassifier\n",
    "from sklearn.ensemble import RandomForestClassifier\n",
    "\n",
    "from sklearn.metrics import log_loss, confusion_matrix, f1_score, ConfusionMatrixDisplay, make_scorer\n",
    "\n",
    "import warnings \n",
    "warnings.filterwarnings('ignore')"
   ]
  },
  {
   "cell_type": "code",
   "execution_count": 2,
   "id": "5d175c69",
   "metadata": {},
   "outputs": [
    {
     "name": "stdout",
     "output_type": "stream",
     "text": [
      "(28836, 43)\n"
     ]
    },
    {
     "data": {
      "text/html": [
       "<div>\n",
       "<style scoped>\n",
       "    .dataframe tbody tr th:only-of-type {\n",
       "        vertical-align: middle;\n",
       "    }\n",
       "\n",
       "    .dataframe tbody tr th {\n",
       "        vertical-align: top;\n",
       "    }\n",
       "\n",
       "    .dataframe thead th {\n",
       "        text-align: right;\n",
       "    }\n",
       "</style>\n",
       "<table border=\"1\" class=\"dataframe\">\n",
       "  <thead>\n",
       "    <tr style=\"text-align: right;\">\n",
       "      <th></th>\n",
       "      <th>CustomerID</th>\n",
       "      <th>InsuredAge</th>\n",
       "      <th>InsuredZipCode</th>\n",
       "      <th>InsuredGender</th>\n",
       "      <th>InsuredEducationLevel</th>\n",
       "      <th>InsuredOccupation</th>\n",
       "      <th>InsuredHobbies</th>\n",
       "      <th>CapitalGains</th>\n",
       "      <th>CapitalLoss</th>\n",
       "      <th>InsurancePolicyNumber</th>\n",
       "      <th>...</th>\n",
       "      <th>Witnesses</th>\n",
       "      <th>PoliceReport</th>\n",
       "      <th>AmountOfTotalClaim</th>\n",
       "      <th>AmountOfInjuryClaim</th>\n",
       "      <th>AmountOfPropertyClaim</th>\n",
       "      <th>AmountOfVehicleDamage</th>\n",
       "      <th>Year</th>\n",
       "      <th>Month</th>\n",
       "      <th>days</th>\n",
       "      <th>ReportedFraud</th>\n",
       "    </tr>\n",
       "  </thead>\n",
       "  <tbody>\n",
       "    <tr>\n",
       "      <th>0</th>\n",
       "      <td>Cust10000</td>\n",
       "      <td>35</td>\n",
       "      <td>454776</td>\n",
       "      <td>MALE</td>\n",
       "      <td>JD</td>\n",
       "      <td>armed-forces</td>\n",
       "      <td>movies</td>\n",
       "      <td>56700</td>\n",
       "      <td>-48500</td>\n",
       "      <td>119121</td>\n",
       "      <td>...</td>\n",
       "      <td>0.0</td>\n",
       "      <td>NoReport</td>\n",
       "      <td>65501.0</td>\n",
       "      <td>13417</td>\n",
       "      <td>6071</td>\n",
       "      <td>46013</td>\n",
       "      <td>2015</td>\n",
       "      <td>2</td>\n",
       "      <td>3</td>\n",
       "      <td>N</td>\n",
       "    </tr>\n",
       "    <tr>\n",
       "      <th>1</th>\n",
       "      <td>Cust10001</td>\n",
       "      <td>36</td>\n",
       "      <td>454776</td>\n",
       "      <td>MALE</td>\n",
       "      <td>JD</td>\n",
       "      <td>tech-support</td>\n",
       "      <td>cross-fit</td>\n",
       "      <td>70600</td>\n",
       "      <td>-48500</td>\n",
       "      <td>119122</td>\n",
       "      <td>...</td>\n",
       "      <td>1.0</td>\n",
       "      <td>YES</td>\n",
       "      <td>61382.0</td>\n",
       "      <td>15560</td>\n",
       "      <td>5919</td>\n",
       "      <td>39903</td>\n",
       "      <td>2015</td>\n",
       "      <td>2</td>\n",
       "      <td>2</td>\n",
       "      <td>N</td>\n",
       "    </tr>\n",
       "    <tr>\n",
       "      <th>2</th>\n",
       "      <td>Cust10002</td>\n",
       "      <td>33</td>\n",
       "      <td>603260</td>\n",
       "      <td>MALE</td>\n",
       "      <td>JD</td>\n",
       "      <td>armed-forces</td>\n",
       "      <td>polo</td>\n",
       "      <td>66400</td>\n",
       "      <td>-63700</td>\n",
       "      <td>119123</td>\n",
       "      <td>...</td>\n",
       "      <td>3.0</td>\n",
       "      <td>NO</td>\n",
       "      <td>66755.0</td>\n",
       "      <td>11630</td>\n",
       "      <td>11630</td>\n",
       "      <td>43495</td>\n",
       "      <td>2015</td>\n",
       "      <td>1</td>\n",
       "      <td>15</td>\n",
       "      <td>N</td>\n",
       "    </tr>\n",
       "    <tr>\n",
       "      <th>3</th>\n",
       "      <td>Cust10003</td>\n",
       "      <td>36</td>\n",
       "      <td>474848</td>\n",
       "      <td>MALE</td>\n",
       "      <td>JD</td>\n",
       "      <td>armed-forces</td>\n",
       "      <td>polo</td>\n",
       "      <td>47900</td>\n",
       "      <td>-73400</td>\n",
       "      <td>119124</td>\n",
       "      <td>...</td>\n",
       "      <td>3.0</td>\n",
       "      <td>NO</td>\n",
       "      <td>66243.0</td>\n",
       "      <td>12003</td>\n",
       "      <td>12003</td>\n",
       "      <td>42237</td>\n",
       "      <td>2015</td>\n",
       "      <td>1</td>\n",
       "      <td>19</td>\n",
       "      <td>N</td>\n",
       "    </tr>\n",
       "    <tr>\n",
       "      <th>4</th>\n",
       "      <td>Cust10004</td>\n",
       "      <td>29</td>\n",
       "      <td>457942</td>\n",
       "      <td>FEMALE</td>\n",
       "      <td>High School</td>\n",
       "      <td>exec-managerial</td>\n",
       "      <td>dancing</td>\n",
       "      <td>0</td>\n",
       "      <td>-41500</td>\n",
       "      <td>119125</td>\n",
       "      <td>...</td>\n",
       "      <td>1.0</td>\n",
       "      <td>YES</td>\n",
       "      <td>53544.0</td>\n",
       "      <td>8829</td>\n",
       "      <td>7234</td>\n",
       "      <td>37481</td>\n",
       "      <td>2015</td>\n",
       "      <td>1</td>\n",
       "      <td>9</td>\n",
       "      <td>N</td>\n",
       "    </tr>\n",
       "  </tbody>\n",
       "</table>\n",
       "<p>5 rows × 43 columns</p>\n",
       "</div>"
      ],
      "text/plain": [
       "  CustomerID  InsuredAge  InsuredZipCode InsuredGender InsuredEducationLevel  \\\n",
       "0  Cust10000          35          454776          MALE                    JD   \n",
       "1  Cust10001          36          454776          MALE                    JD   \n",
       "2  Cust10002          33          603260          MALE                    JD   \n",
       "3  Cust10003          36          474848          MALE                    JD   \n",
       "4  Cust10004          29          457942        FEMALE           High School   \n",
       "\n",
       "  InsuredOccupation InsuredHobbies  CapitalGains  CapitalLoss  \\\n",
       "0      armed-forces         movies         56700       -48500   \n",
       "1      tech-support      cross-fit         70600       -48500   \n",
       "2      armed-forces           polo         66400       -63700   \n",
       "3      armed-forces           polo         47900       -73400   \n",
       "4   exec-managerial        dancing             0       -41500   \n",
       "\n",
       "   InsurancePolicyNumber  ...  Witnesses PoliceReport AmountOfTotalClaim  \\\n",
       "0                 119121  ...        0.0     NoReport            65501.0   \n",
       "1                 119122  ...        1.0          YES            61382.0   \n",
       "2                 119123  ...        3.0           NO            66755.0   \n",
       "3                 119124  ...        3.0           NO            66243.0   \n",
       "4                 119125  ...        1.0          YES            53544.0   \n",
       "\n",
       "  AmountOfInjuryClaim  AmountOfPropertyClaim  AmountOfVehicleDamage  Year  \\\n",
       "0               13417                   6071                  46013  2015   \n",
       "1               15560                   5919                  39903  2015   \n",
       "2               11630                  11630                  43495  2015   \n",
       "3               12003                  12003                  42237  2015   \n",
       "4                8829                   7234                  37481  2015   \n",
       "\n",
       "  Month  days ReportedFraud  \n",
       "0     2     3             N  \n",
       "1     2     2             N  \n",
       "2     1    15             N  \n",
       "3     1    19             N  \n",
       "4     1     9             N  \n",
       "\n",
       "[5 rows x 43 columns]"
      ]
     },
     "execution_count": 2,
     "metadata": {},
     "output_type": "execute_result"
    }
   ],
   "source": [
    "df = pd.read_csv(\"final_data.csv\")\n",
    "df.drop(\"Unnamed: 0\",axis=1,inplace=True)\n",
    "print(df.shape)\n",
    "df.head()"
   ]
  },
  {
   "cell_type": "code",
   "execution_count": 3,
   "id": "ee28983c",
   "metadata": {},
   "outputs": [
    {
     "data": {
      "text/plain": [
       "0"
      ]
     },
     "execution_count": 3,
     "metadata": {},
     "output_type": "execute_result"
    }
   ],
   "source": [
    "df.isnull().sum().sum()"
   ]
  },
  {
   "cell_type": "code",
   "execution_count": 4,
   "id": "dfa0310c",
   "metadata": {},
   "outputs": [
    {
     "data": {
      "text/plain": [
       "0"
      ]
     },
     "execution_count": 4,
     "metadata": {},
     "output_type": "execute_result"
    }
   ],
   "source": [
    "df.duplicated().sum()"
   ]
  },
  {
   "cell_type": "code",
   "execution_count": 5,
   "id": "12003ee3",
   "metadata": {},
   "outputs": [
    {
     "data": {
      "text/html": [
       "<div>\n",
       "<style scoped>\n",
       "    .dataframe tbody tr th:only-of-type {\n",
       "        vertical-align: middle;\n",
       "    }\n",
       "\n",
       "    .dataframe tbody tr th {\n",
       "        vertical-align: top;\n",
       "    }\n",
       "\n",
       "    .dataframe thead th {\n",
       "        text-align: right;\n",
       "    }\n",
       "</style>\n",
       "<table border=\"1\" class=\"dataframe\">\n",
       "  <thead>\n",
       "    <tr style=\"text-align: right;\">\n",
       "      <th></th>\n",
       "      <th>InsuredAge</th>\n",
       "      <th>InsuredZipCode</th>\n",
       "      <th>CapitalGains</th>\n",
       "      <th>CapitalLoss</th>\n",
       "      <th>InsurancePolicyNumber</th>\n",
       "      <th>CustomerLoyaltyPeriod</th>\n",
       "      <th>Policy_Deductible</th>\n",
       "      <th>PolicyAnnualPremium</th>\n",
       "      <th>UmbrellaLimit</th>\n",
       "      <th>VehicleYOM</th>\n",
       "      <th>...</th>\n",
       "      <th>NumberOfVehicles</th>\n",
       "      <th>BodilyInjuries</th>\n",
       "      <th>Witnesses</th>\n",
       "      <th>AmountOfTotalClaim</th>\n",
       "      <th>AmountOfInjuryClaim</th>\n",
       "      <th>AmountOfPropertyClaim</th>\n",
       "      <th>AmountOfVehicleDamage</th>\n",
       "      <th>Year</th>\n",
       "      <th>Month</th>\n",
       "      <th>days</th>\n",
       "    </tr>\n",
       "  </thead>\n",
       "  <tbody>\n",
       "    <tr>\n",
       "      <th>count</th>\n",
       "      <td>28836.000000</td>\n",
       "      <td>28836.000000</td>\n",
       "      <td>28836.000000</td>\n",
       "      <td>28836.000000</td>\n",
       "      <td>28836.000000</td>\n",
       "      <td>28836.000000</td>\n",
       "      <td>28836.000000</td>\n",
       "      <td>28836.000000</td>\n",
       "      <td>2.883600e+04</td>\n",
       "      <td>28836.000000</td>\n",
       "      <td>...</td>\n",
       "      <td>28836.000000</td>\n",
       "      <td>28836.000000</td>\n",
       "      <td>28836.00000</td>\n",
       "      <td>28836.000000</td>\n",
       "      <td>28836.000000</td>\n",
       "      <td>28836.000000</td>\n",
       "      <td>28836.000000</td>\n",
       "      <td>28836.0</td>\n",
       "      <td>28836.000000</td>\n",
       "      <td>28836.000000</td>\n",
       "    </tr>\n",
       "    <tr>\n",
       "      <th>mean</th>\n",
       "      <td>38.815370</td>\n",
       "      <td>502436.579068</td>\n",
       "      <td>23066.569566</td>\n",
       "      <td>-24940.612429</td>\n",
       "      <td>129312.517097</td>\n",
       "      <td>203.067867</td>\n",
       "      <td>1114.282529</td>\n",
       "      <td>1261.725810</td>\n",
       "      <td>9.836680e+05</td>\n",
       "      <td>2005.093113</td>\n",
       "      <td>...</td>\n",
       "      <td>1.823207</td>\n",
       "      <td>0.985782</td>\n",
       "      <td>1.48429</td>\n",
       "      <td>52319.038355</td>\n",
       "      <td>7337.118428</td>\n",
       "      <td>7283.870197</td>\n",
       "      <td>37687.129387</td>\n",
       "      <td>2015.0</td>\n",
       "      <td>1.495110</td>\n",
       "      <td>15.010300</td>\n",
       "    </tr>\n",
       "    <tr>\n",
       "      <th>std</th>\n",
       "      <td>7.996377</td>\n",
       "      <td>72250.868871</td>\n",
       "      <td>27637.813724</td>\n",
       "      <td>27913.209608</td>\n",
       "      <td>11114.060267</td>\n",
       "      <td>99.932951</td>\n",
       "      <td>546.632816</td>\n",
       "      <td>204.882653</td>\n",
       "      <td>1.969282e+06</td>\n",
       "      <td>5.309956</td>\n",
       "      <td>...</td>\n",
       "      <td>0.980099</td>\n",
       "      <td>0.784764</td>\n",
       "      <td>1.04469</td>\n",
       "      <td>25080.664083</td>\n",
       "      <td>4427.638593</td>\n",
       "      <td>4375.842738</td>\n",
       "      <td>17977.048232</td>\n",
       "      <td>0.0</td>\n",
       "      <td>0.516162</td>\n",
       "      <td>7.603878</td>\n",
       "    </tr>\n",
       "    <tr>\n",
       "      <th>min</th>\n",
       "      <td>19.000000</td>\n",
       "      <td>430104.000000</td>\n",
       "      <td>0.000000</td>\n",
       "      <td>-111100.000000</td>\n",
       "      <td>110122.000000</td>\n",
       "      <td>1.000000</td>\n",
       "      <td>500.000000</td>\n",
       "      <td>436.280000</td>\n",
       "      <td>-1.000000e+06</td>\n",
       "      <td>1995.000000</td>\n",
       "      <td>...</td>\n",
       "      <td>1.000000</td>\n",
       "      <td>0.000000</td>\n",
       "      <td>-1.00000</td>\n",
       "      <td>150.000000</td>\n",
       "      <td>0.000000</td>\n",
       "      <td>0.000000</td>\n",
       "      <td>109.000000</td>\n",
       "      <td>2015.0</td>\n",
       "      <td>1.000000</td>\n",
       "      <td>1.000000</td>\n",
       "    </tr>\n",
       "    <tr>\n",
       "      <th>25%</th>\n",
       "      <td>33.000000</td>\n",
       "      <td>448603.000000</td>\n",
       "      <td>0.000000</td>\n",
       "      <td>-50000.000000</td>\n",
       "      <td>119698.750000</td>\n",
       "      <td>126.000000</td>\n",
       "      <td>622.000000</td>\n",
       "      <td>1125.247500</td>\n",
       "      <td>0.000000e+00</td>\n",
       "      <td>2001.000000</td>\n",
       "      <td>...</td>\n",
       "      <td>1.000000</td>\n",
       "      <td>0.000000</td>\n",
       "      <td>1.00000</td>\n",
       "      <td>44686.250000</td>\n",
       "      <td>4743.750000</td>\n",
       "      <td>4862.000000</td>\n",
       "      <td>32193.250000</td>\n",
       "      <td>2015.0</td>\n",
       "      <td>1.000000</td>\n",
       "      <td>9.000000</td>\n",
       "    </tr>\n",
       "    <tr>\n",
       "      <th>50%</th>\n",
       "      <td>38.000000</td>\n",
       "      <td>466691.000000</td>\n",
       "      <td>0.000000</td>\n",
       "      <td>0.000000</td>\n",
       "      <td>129278.500000</td>\n",
       "      <td>199.000000</td>\n",
       "      <td>1000.000000</td>\n",
       "      <td>1266.440000</td>\n",
       "      <td>0.000000e+00</td>\n",
       "      <td>2005.000000</td>\n",
       "      <td>...</td>\n",
       "      <td>1.000000</td>\n",
       "      <td>1.000000</td>\n",
       "      <td>1.00000</td>\n",
       "      <td>58360.000000</td>\n",
       "      <td>7147.000000</td>\n",
       "      <td>7051.000000</td>\n",
       "      <td>42457.500000</td>\n",
       "      <td>2015.0</td>\n",
       "      <td>1.000000</td>\n",
       "      <td>15.000000</td>\n",
       "    </tr>\n",
       "    <tr>\n",
       "      <th>75%</th>\n",
       "      <td>44.000000</td>\n",
       "      <td>603848.000000</td>\n",
       "      <td>49000.000000</td>\n",
       "      <td>0.000000</td>\n",
       "      <td>138933.250000</td>\n",
       "      <td>267.000000</td>\n",
       "      <td>1627.000000</td>\n",
       "      <td>1396.605000</td>\n",
       "      <td>4.859610e+05</td>\n",
       "      <td>2010.000000</td>\n",
       "      <td>...</td>\n",
       "      <td>3.000000</td>\n",
       "      <td>2.000000</td>\n",
       "      <td>2.00000</td>\n",
       "      <td>68961.750000</td>\n",
       "      <td>10571.250000</td>\n",
       "      <td>10327.000000</td>\n",
       "      <td>49535.750000</td>\n",
       "      <td>2015.0</td>\n",
       "      <td>2.000000</td>\n",
       "      <td>21.000000</td>\n",
       "    </tr>\n",
       "    <tr>\n",
       "      <th>max</th>\n",
       "      <td>64.000000</td>\n",
       "      <td>620962.000000</td>\n",
       "      <td>100500.000000</td>\n",
       "      <td>0.000000</td>\n",
       "      <td>148619.000000</td>\n",
       "      <td>479.000000</td>\n",
       "      <td>2000.000000</td>\n",
       "      <td>2047.590000</td>\n",
       "      <td>1.000000e+07</td>\n",
       "      <td>2015.000000</td>\n",
       "      <td>...</td>\n",
       "      <td>4.000000</td>\n",
       "      <td>2.000000</td>\n",
       "      <td>3.00000</td>\n",
       "      <td>114920.000000</td>\n",
       "      <td>21450.000000</td>\n",
       "      <td>23670.000000</td>\n",
       "      <td>79560.000000</td>\n",
       "      <td>2015.0</td>\n",
       "      <td>3.000000</td>\n",
       "      <td>31.000000</td>\n",
       "    </tr>\n",
       "  </tbody>\n",
       "</table>\n",
       "<p>8 rows × 21 columns</p>\n",
       "</div>"
      ],
      "text/plain": [
       "         InsuredAge  InsuredZipCode   CapitalGains    CapitalLoss  \\\n",
       "count  28836.000000    28836.000000   28836.000000   28836.000000   \n",
       "mean      38.815370   502436.579068   23066.569566  -24940.612429   \n",
       "std        7.996377    72250.868871   27637.813724   27913.209608   \n",
       "min       19.000000   430104.000000       0.000000 -111100.000000   \n",
       "25%       33.000000   448603.000000       0.000000  -50000.000000   \n",
       "50%       38.000000   466691.000000       0.000000       0.000000   \n",
       "75%       44.000000   603848.000000   49000.000000       0.000000   \n",
       "max       64.000000   620962.000000  100500.000000       0.000000   \n",
       "\n",
       "       InsurancePolicyNumber  CustomerLoyaltyPeriod  Policy_Deductible  \\\n",
       "count           28836.000000           28836.000000       28836.000000   \n",
       "mean           129312.517097             203.067867        1114.282529   \n",
       "std             11114.060267              99.932951         546.632816   \n",
       "min            110122.000000               1.000000         500.000000   \n",
       "25%            119698.750000             126.000000         622.000000   \n",
       "50%            129278.500000             199.000000        1000.000000   \n",
       "75%            138933.250000             267.000000        1627.000000   \n",
       "max            148619.000000             479.000000        2000.000000   \n",
       "\n",
       "       PolicyAnnualPremium  UmbrellaLimit    VehicleYOM  ...  \\\n",
       "count         28836.000000   2.883600e+04  28836.000000  ...   \n",
       "mean           1261.725810   9.836680e+05   2005.093113  ...   \n",
       "std             204.882653   1.969282e+06      5.309956  ...   \n",
       "min             436.280000  -1.000000e+06   1995.000000  ...   \n",
       "25%            1125.247500   0.000000e+00   2001.000000  ...   \n",
       "50%            1266.440000   0.000000e+00   2005.000000  ...   \n",
       "75%            1396.605000   4.859610e+05   2010.000000  ...   \n",
       "max            2047.590000   1.000000e+07   2015.000000  ...   \n",
       "\n",
       "       NumberOfVehicles  BodilyInjuries    Witnesses  AmountOfTotalClaim  \\\n",
       "count      28836.000000    28836.000000  28836.00000        28836.000000   \n",
       "mean           1.823207        0.985782      1.48429        52319.038355   \n",
       "std            0.980099        0.784764      1.04469        25080.664083   \n",
       "min            1.000000        0.000000     -1.00000          150.000000   \n",
       "25%            1.000000        0.000000      1.00000        44686.250000   \n",
       "50%            1.000000        1.000000      1.00000        58360.000000   \n",
       "75%            3.000000        2.000000      2.00000        68961.750000   \n",
       "max            4.000000        2.000000      3.00000       114920.000000   \n",
       "\n",
       "       AmountOfInjuryClaim  AmountOfPropertyClaim  AmountOfVehicleDamage  \\\n",
       "count         28836.000000           28836.000000           28836.000000   \n",
       "mean           7337.118428            7283.870197           37687.129387   \n",
       "std            4427.638593            4375.842738           17977.048232   \n",
       "min               0.000000               0.000000             109.000000   \n",
       "25%            4743.750000            4862.000000           32193.250000   \n",
       "50%            7147.000000            7051.000000           42457.500000   \n",
       "75%           10571.250000           10327.000000           49535.750000   \n",
       "max           21450.000000           23670.000000           79560.000000   \n",
       "\n",
       "          Year         Month          days  \n",
       "count  28836.0  28836.000000  28836.000000  \n",
       "mean    2015.0      1.495110     15.010300  \n",
       "std        0.0      0.516162      7.603878  \n",
       "min     2015.0      1.000000      1.000000  \n",
       "25%     2015.0      1.000000      9.000000  \n",
       "50%     2015.0      1.000000     15.000000  \n",
       "75%     2015.0      2.000000     21.000000  \n",
       "max     2015.0      3.000000     31.000000  \n",
       "\n",
       "[8 rows x 21 columns]"
      ]
     },
     "execution_count": 5,
     "metadata": {},
     "output_type": "execute_result"
    }
   ],
   "source": [
    "df.describe()"
   ]
  },
  {
   "cell_type": "code",
   "execution_count": 6,
   "id": "ba0ea0ca",
   "metadata": {},
   "outputs": [
    {
     "data": {
      "image/png": "[encoded data removed]",
      "text/plain": [
       "<Figure size 640x480 with 2 Axes>"
      ]
     },
     "metadata": {},
     "output_type": "display_data"
    }
   ],
   "source": [
    "def plot(data,col):\n",
    "    fig,(ax1,ax2)=plt.subplots(2,1)\n",
    "    sns.distplot(data[col],ax=ax1)\n",
    "    sns.boxplot(data[col],ax=ax2)\n",
    "plot(df,'CapitalGains')"
   ]
  },
  {
   "cell_type": "raw",
   "id": "6b4cf440",
   "metadata": {},
   "source": [
    "# By observing the pdf and boxplot we can conclude the value in the CapitalGains feature is geniune."
   ]
  },
  {
   "cell_type": "markdown",
   "id": "46923204",
   "metadata": {},
   "source": [
    "## Data preprocessing "
   ]
  },
  {
   "cell_type": "code",
   "execution_count": 7,
   "id": "12d9a26c",
   "metadata": {},
   "outputs": [],
   "source": [
    "df[\"Year_PolicyCoverage\"] = df['DateOfPolicyCoverage'].apply(lambda x: int(x.split(\"-\")[0]))\n",
    "df[\"Month_PolicyCoverage\"] = df['DateOfPolicyCoverage'].apply(lambda x: int(x.split(\"-\")[1]))\n",
    "df[\"days_PolicyCoverage\"] = df['DateOfPolicyCoverage'].apply(lambda x: int(x.split(\"-\")[2]))"
   ]
  },
  {
   "cell_type": "code",
   "execution_count": 8,
   "id": "57b567b0",
   "metadata": {},
   "outputs": [],
   "source": [
    "#Spliting the Policy CombinedSingleLimit into split-limit and combinedsinglelimit\n",
    "df['Policy_SplitLimit'] = df['Policy_CombinedSingleLimit'].apply(lambda x: int(x.split(\"/\")[0]))\n",
    "df['Policy_CombinedSingleLimit'] = df['Policy_CombinedSingleLimit'].apply(lambda x: int(x.split(\"/\")[1]))"
   ]
  },
  {
   "cell_type": "code",
   "execution_count": 9,
   "id": "32822fc4",
   "metadata": {},
   "outputs": [],
   "source": [
    "df.drop(['CustomerID', 'InsurancePolicyNumber','VehicleID','DateOfPolicyCoverage','InsuredEducationLevel','InsuredRelationship','IncidentAddress'],axis=1,inplace=True)"
   ]
  },
  {
   "cell_type": "raw",
   "id": "9a85cf0a",
   "metadata": {},
   "source": [
    "## LabelEncoding -- ReportedFraud, VehicleModel\n",
    "\n",
    "## One-hot encoding -- InsuredGender, InsuredHobbies, InsuredOccupation, InsurancePolicyState, IncidentState, VehicleMake, TypeOfIncident, TypeOfCollission, SeverityOfIncident, AuthoritiesContacted, IncidentCity,  PropertyDamage, PoliceReport"
   ]
  },
  {
   "cell_type": "code",
   "execution_count": 10,
   "id": "5d14d079",
   "metadata": {},
   "outputs": [],
   "source": [
    "# Perform labelEncoding on -- ReportedFraud, VehicleModel\n",
    "\n",
    "df['ReportedFraud'] = df['ReportedFraud'].astype(\"category\").cat.codes\n",
    "df['VehicleModel'] = df['VehicleModel'].astype(\"category\").cat.codes"
   ]
  },
  {
   "cell_type": "markdown",
   "id": "495aab9d",
   "metadata": {},
   "source": [
    "### One-Hot Encoding"
   ]
  },
  {
   "cell_type": "code",
   "execution_count": 11,
   "id": "d4e47744",
   "metadata": {},
   "outputs": [],
   "source": [
    "# Performing one-hot encoding\n",
    "OHE_cols = ['InsuredGender', 'InsuredHobbies', 'InsuredOccupation', 'InsurancePolicyState', 'IncidentState', 'VehicleMake',\n",
    "            'TypeOfIncident', 'TypeOfCollission', 'SeverityOfIncident', 'AuthoritiesContacted', 'IncidentCity',\n",
    "            'PropertyDamage', 'PoliceReport']\n",
    "\n",
    "for i in OHE_cols:\n",
    "    #Create object for one-hot encoding\n",
    "    encoder = ce.OneHotEncoder(cols=i, handle_unknown='value',return_df=True,use_cat_names=True)\n",
    "\n",
    "    #Fit and transform Data\n",
    "    data_encoded1 = encoder.fit_transform(df[i])\n",
    "    \n",
    "    #drop column in the original dataframe\n",
    "    df.drop(i,axis=1,inplace=True)\n",
    "    \n",
    "    #concat onehotencoded data to original\n",
    "    df = pd.concat([df, data_encoded1], axis=1)"
   ]
  },
  {
   "cell_type": "code",
   "execution_count": 12,
   "id": "d6abf454",
   "metadata": {},
   "outputs": [
    {
     "name": "stdout",
     "output_type": "stream",
     "text": [
      "(28836, 117)\n"
     ]
    },
    {
     "data": {
      "text/html": [
       "<div>\n",
       "<style scoped>\n",
       "    .dataframe tbody tr th:only-of-type {\n",
       "        vertical-align: middle;\n",
       "    }\n",
       "\n",
       "    .dataframe tbody tr th {\n",
       "        vertical-align: top;\n",
       "    }\n",
       "\n",
       "    .dataframe thead th {\n",
       "        text-align: right;\n",
       "    }\n",
       "</style>\n",
       "<table border=\"1\" class=\"dataframe\">\n",
       "  <thead>\n",
       "    <tr style=\"text-align: right;\">\n",
       "      <th></th>\n",
       "      <th>InsuredAge</th>\n",
       "      <th>InsuredZipCode</th>\n",
       "      <th>CapitalGains</th>\n",
       "      <th>CapitalLoss</th>\n",
       "      <th>CustomerLoyaltyPeriod</th>\n",
       "      <th>Policy_CombinedSingleLimit</th>\n",
       "      <th>Policy_Deductible</th>\n",
       "      <th>PolicyAnnualPremium</th>\n",
       "      <th>UmbrellaLimit</th>\n",
       "      <th>VehicleYOM</th>\n",
       "      <th>...</th>\n",
       "      <th>IncidentCity_City6</th>\n",
       "      <th>IncidentCity_City4</th>\n",
       "      <th>IncidentCity_City3</th>\n",
       "      <th>IncidentCity_City2</th>\n",
       "      <th>IncidentCity_City7</th>\n",
       "      <th>PropertyDamage_YES</th>\n",
       "      <th>PropertyDamage_NO</th>\n",
       "      <th>PoliceReport_NoReport</th>\n",
       "      <th>PoliceReport_YES</th>\n",
       "      <th>PoliceReport_NO</th>\n",
       "    </tr>\n",
       "  </thead>\n",
       "  <tbody>\n",
       "    <tr>\n",
       "      <th>0</th>\n",
       "      <td>35</td>\n",
       "      <td>454776</td>\n",
       "      <td>56700</td>\n",
       "      <td>-48500</td>\n",
       "      <td>49</td>\n",
       "      <td>300</td>\n",
       "      <td>1000</td>\n",
       "      <td>1632.73</td>\n",
       "      <td>0</td>\n",
       "      <td>2008</td>\n",
       "      <td>...</td>\n",
       "      <td>0</td>\n",
       "      <td>0</td>\n",
       "      <td>0</td>\n",
       "      <td>0</td>\n",
       "      <td>0</td>\n",
       "      <td>1</td>\n",
       "      <td>0</td>\n",
       "      <td>1</td>\n",
       "      <td>0</td>\n",
       "      <td>0</td>\n",
       "    </tr>\n",
       "    <tr>\n",
       "      <th>1</th>\n",
       "      <td>36</td>\n",
       "      <td>454776</td>\n",
       "      <td>70600</td>\n",
       "      <td>-48500</td>\n",
       "      <td>114</td>\n",
       "      <td>300</td>\n",
       "      <td>1000</td>\n",
       "      <td>1255.19</td>\n",
       "      <td>0</td>\n",
       "      <td>2006</td>\n",
       "      <td>...</td>\n",
       "      <td>0</td>\n",
       "      <td>0</td>\n",
       "      <td>0</td>\n",
       "      <td>0</td>\n",
       "      <td>0</td>\n",
       "      <td>1</td>\n",
       "      <td>0</td>\n",
       "      <td>0</td>\n",
       "      <td>1</td>\n",
       "      <td>0</td>\n",
       "    </tr>\n",
       "    <tr>\n",
       "      <th>2</th>\n",
       "      <td>33</td>\n",
       "      <td>603260</td>\n",
       "      <td>66400</td>\n",
       "      <td>-63700</td>\n",
       "      <td>167</td>\n",
       "      <td>1000</td>\n",
       "      <td>617</td>\n",
       "      <td>1373.38</td>\n",
       "      <td>0</td>\n",
       "      <td>1999</td>\n",
       "      <td>...</td>\n",
       "      <td>1</td>\n",
       "      <td>0</td>\n",
       "      <td>0</td>\n",
       "      <td>0</td>\n",
       "      <td>0</td>\n",
       "      <td>1</td>\n",
       "      <td>0</td>\n",
       "      <td>0</td>\n",
       "      <td>0</td>\n",
       "      <td>1</td>\n",
       "    </tr>\n",
       "    <tr>\n",
       "      <th>3</th>\n",
       "      <td>36</td>\n",
       "      <td>474848</td>\n",
       "      <td>47900</td>\n",
       "      <td>-73400</td>\n",
       "      <td>190</td>\n",
       "      <td>1000</td>\n",
       "      <td>722</td>\n",
       "      <td>1337.60</td>\n",
       "      <td>0</td>\n",
       "      <td>2003</td>\n",
       "      <td>...</td>\n",
       "      <td>1</td>\n",
       "      <td>0</td>\n",
       "      <td>0</td>\n",
       "      <td>0</td>\n",
       "      <td>0</td>\n",
       "      <td>1</td>\n",
       "      <td>0</td>\n",
       "      <td>0</td>\n",
       "      <td>0</td>\n",
       "      <td>1</td>\n",
       "    </tr>\n",
       "    <tr>\n",
       "      <th>4</th>\n",
       "      <td>29</td>\n",
       "      <td>457942</td>\n",
       "      <td>0</td>\n",
       "      <td>-41500</td>\n",
       "      <td>115</td>\n",
       "      <td>300</td>\n",
       "      <td>500</td>\n",
       "      <td>1353.73</td>\n",
       "      <td>4279863</td>\n",
       "      <td>2010</td>\n",
       "      <td>...</td>\n",
       "      <td>1</td>\n",
       "      <td>0</td>\n",
       "      <td>0</td>\n",
       "      <td>0</td>\n",
       "      <td>0</td>\n",
       "      <td>0</td>\n",
       "      <td>1</td>\n",
       "      <td>0</td>\n",
       "      <td>1</td>\n",
       "      <td>0</td>\n",
       "    </tr>\n",
       "  </tbody>\n",
       "</table>\n",
       "<p>5 rows × 117 columns</p>\n",
       "</div>"
      ],
      "text/plain": [
       "   InsuredAge  InsuredZipCode  CapitalGains  CapitalLoss  \\\n",
       "0          35          454776         56700       -48500   \n",
       "1          36          454776         70600       -48500   \n",
       "2          33          603260         66400       -63700   \n",
       "3          36          474848         47900       -73400   \n",
       "4          29          457942             0       -41500   \n",
       "\n",
       "   CustomerLoyaltyPeriod  Policy_CombinedSingleLimit  Policy_Deductible  \\\n",
       "0                     49                         300               1000   \n",
       "1                    114                         300               1000   \n",
       "2                    167                        1000                617   \n",
       "3                    190                        1000                722   \n",
       "4                    115                         300                500   \n",
       "\n",
       "   PolicyAnnualPremium  UmbrellaLimit  VehicleYOM  ...  IncidentCity_City6  \\\n",
       "0              1632.73              0        2008  ...                   0   \n",
       "1              1255.19              0        2006  ...                   0   \n",
       "2              1373.38              0        1999  ...                   1   \n",
       "3              1337.60              0        2003  ...                   1   \n",
       "4              1353.73        4279863        2010  ...                   1   \n",
       "\n",
       "   IncidentCity_City4  IncidentCity_City3  IncidentCity_City2  \\\n",
       "0                   0                   0                   0   \n",
       "1                   0                   0                   0   \n",
       "2                   0                   0                   0   \n",
       "3                   0                   0                   0   \n",
       "4                   0                   0                   0   \n",
       "\n",
       "   IncidentCity_City7  PropertyDamage_YES  PropertyDamage_NO  \\\n",
       "0                   0                   1                  0   \n",
       "1                   0                   1                  0   \n",
       "2                   0                   1                  0   \n",
       "3                   0                   1                  0   \n",
       "4                   0                   0                  1   \n",
       "\n",
       "   PoliceReport_NoReport  PoliceReport_YES  PoliceReport_NO  \n",
       "0                      1                 0                0  \n",
       "1                      0                 1                0  \n",
       "2                      0                 0                1  \n",
       "3                      0                 0                1  \n",
       "4                      0                 1                0  \n",
       "\n",
       "[5 rows x 117 columns]"
      ]
     },
     "execution_count": 12,
     "metadata": {},
     "output_type": "execute_result"
    }
   ],
   "source": [
    "print(df.shape)\n",
    "df.head(5)"
   ]
  },
  {
   "cell_type": "code",
   "execution_count": 13,
   "id": "be7aabfa",
   "metadata": {},
   "outputs": [
    {
     "data": {
      "text/plain": [
       "0"
      ]
     },
     "execution_count": 13,
     "metadata": {},
     "output_type": "execute_result"
    }
   ],
   "source": [
    "df.isnull().sum().sum()"
   ]
  },
  {
   "cell_type": "markdown",
   "id": "f207348e",
   "metadata": {},
   "source": [
    "## Split the data into train and test dataset to evaluate the model for unseen data"
   ]
  },
  {
   "cell_type": "code",
   "execution_count": 14,
   "id": "e8ce8f2f",
   "metadata": {},
   "outputs": [],
   "source": [
    "x = df.drop('ReportedFraud',axis=1)\n",
    "y = df['ReportedFraud']\n",
    "\n",
    "x_train, x_test, y_train, y_test = train_test_split(x, y, test_size=0.30, random_state=42)"
   ]
  },
  {
   "cell_type": "markdown",
   "id": "88e954a9",
   "metadata": {},
   "source": [
    "# <center>Model Building"
   ]
  },
  {
   "cell_type": "markdown",
   "id": "d8e8d73d",
   "metadata": {},
   "source": [
    "### Random model (benchmark model)"
   ]
  },
  {
   "cell_type": "code",
   "execution_count": 15,
   "id": "84957348",
   "metadata": {},
   "outputs": [],
   "source": [
    "# first lets build a Random model (as our benchmark model)\n",
    "rnd = x_test.shape[0]\n",
    "rnd_probpred = []\n",
    "rnd_pred = []\n",
    "\n",
    "def random_model(rnd):\n",
    "    for i in range(rnd):\n",
    "        a = random.uniform(0,1)\n",
    "        rnd_probpred.append([a,1-a])\n",
    "\n",
    "random_model(rnd)\n",
    "rnd_probpred = np.asarray(rnd_probpred)\n",
    "\n",
    "for i in rnd_probpred:\n",
    "    rnd_pred.append(np.argmax(i))"
   ]
  },
  {
   "cell_type": "code",
   "execution_count": 16,
   "id": "dd80d431",
   "metadata": {},
   "outputs": [
    {
     "name": "stdout",
     "output_type": "stream",
     "text": [
      "The confusion matrix for the random model is:  [[3214 3159]\n",
      " [1146 1132]]\n",
      "The Log-Loss for a Random Model is:  0.9940075125707256\n",
      "The F1-Score for a Random Model is:  0.3446491094534937\n"
     ]
    }
   ],
   "source": [
    "confusion_matrix = confusion_matrix(y_test, rnd_pred)\n",
    "print(\"The confusion matrix for the random model is: \",confusion_matrix)\n",
    "\n",
    "print(\"The Log-Loss for a Random Model is: \",log_loss(y_test,rnd_probpred))\n",
    "\n",
    "print(\"The F1-Score for a Random Model is: \",f1_score(y_test,rnd_pred))"
   ]
  },
  {
   "cell_type": "markdown",
   "id": "2840d8dc",
   "metadata": {},
   "source": [
    "### Naive Bayes "
   ]
  },
  {
   "cell_type": "code",
   "execution_count": 17,
   "id": "0a5c6ed6",
   "metadata": {},
   "outputs": [
    {
     "data": {
      "text/plain": [
       "GridSearchCV(cv=10, estimator=BernoulliNB(),\n",
       "             param_grid=[{'alpha': [1e-05, 0.0001, 0.001, 0.01, 0.1, 1, 10, 100,\n",
       "                                    1000, 10000],\n",
       "                          'fit_prior': [True, False]}],\n",
       "             scoring=make_scorer(f1_score))"
      ]
     },
     "execution_count": 17,
     "metadata": {},
     "output_type": "execute_result"
    }
   ],
   "source": [
    "# Applying grid search to hyperparameter tune the BernoulliNB model\n",
    "\n",
    "#Instance for Naive Bayes classifier\n",
    "nb = BernoulliNB()\n",
    "\n",
    "#params for Bernoulli Naive bayes model\n",
    "nb_params = [{'alpha':[10**x for x in range(-5,5)], 'fit_prior':[True,False]}]\n",
    "\n",
    "#Instance for Naive Bayes Classifier and f1 metric\n",
    "f1score = make_scorer(f1_score,greater_is_better=True, needs_proba=False)\n",
    "nbclf = GridSearchCV(nb, nb_params, cv=10, scoring=f1score)\n",
    "\n",
    "#training the model to find the best parameter\n",
    "nbclf.fit(x_train, y_train)"
   ]
  },
  {
   "cell_type": "code",
   "execution_count": 18,
   "id": "3818b6bf",
   "metadata": {},
   "outputs": [
    {
     "name": "stdout",
     "output_type": "stream",
     "text": [
      "The best parameter after GridSearch comes out to be:  {'alpha': 1, 'fit_prior': True}\n",
      "With the F1 statistic of:  0.6626685857926666\n"
     ]
    }
   ],
   "source": [
    "print(\"The best parameter after GridSearch comes out to be: \",nbclf.best_params_)\n",
    "print(\"With the F1 statistic of: \",nbclf.best_score_)"
   ]
  },
  {
   "cell_type": "markdown",
   "id": "70dc1d56",
   "metadata": {},
   "source": [
    "#### Well Naive bayes surely is doing good than a random model with so we can take this into consideration. Now trying out with more complex models and try improving the F1-score further."
   ]
  },
  {
   "cell_type": "markdown",
   "id": "6624fe80",
   "metadata": {},
   "source": [
    "### KNN"
   ]
  },
  {
   "cell_type": "code",
   "execution_count": 19,
   "id": "3cc4f415",
   "metadata": {},
   "outputs": [],
   "source": [
    "# min max sclaer\n",
    "scaler = MinMaxScaler()\n",
    "scaler.fit(x_train)\n",
    "x_trainknn = scaler.transform(x_train)\n",
    "x_testknn = scaler.transform(x_test)"
   ]
  },
  {
   "cell_type": "code",
   "execution_count": 20,
   "id": "af1f07d9",
   "metadata": {},
   "outputs": [
    {
     "data": {
      "text/plain": [
       "GridSearchCV(cv=10, estimator=KNeighborsClassifier(),\n",
       "             param_grid=[{'n_neighbors': [1, 3, 5, 7, 9, 11, 13, 15, 17, 19],\n",
       "                          'weights': ['uniform', 'distance']}],\n",
       "             scoring=make_scorer(f1_score))"
      ]
     },
     "execution_count": 20,
     "metadata": {},
     "output_type": "execute_result"
    }
   ],
   "source": [
    "# Applying grid search to hyperparameter tune the KNN model\n",
    "\n",
    "#Instance for KNN model\n",
    "knn = KNeighborsClassifier()\n",
    "\n",
    "#Hyperparameter for search\n",
    "knn_params = [{'n_neighbors':list(range(1,20,2)), 'weights':['uniform','distance']}]\n",
    "\n",
    "#Instance for Grid Search CV\n",
    "f1score = make_scorer(f1_score, greater_is_better=True, needs_proba=False)\n",
    "clf = GridSearchCV(knn, knn_params, cv=10, scoring=f1score)\n",
    "\n",
    "#training the model to find the best parameter\n",
    "clf.fit(x_trainknn, y_train)"
   ]
  },
  {
   "cell_type": "code",
   "execution_count": 21,
   "id": "21ec89a5",
   "metadata": {},
   "outputs": [
    {
     "name": "stdout",
     "output_type": "stream",
     "text": [
      "The best parameter after GridSearch comes out to be:  {'n_neighbors': 7, 'weights': 'uniform'}\n",
      "With the F1 statistic of:  0.8702983984872918\n"
     ]
    }
   ],
   "source": [
    "print(\"The best parameter after GridSearch comes out to be: \",clf.best_params_)\n",
    "print(\"With the F1 statistic of: \",clf.best_score_)"
   ]
  },
  {
   "cell_type": "markdown",
   "id": "7850577f",
   "metadata": {},
   "source": [
    "#### Thats F1-score of 0.87 with KNN, so definitely KNN is performing good than a random model and working considerably well. Now trying out with more complex models."
   ]
  },
  {
   "cell_type": "markdown",
   "id": "24bb64cf",
   "metadata": {},
   "source": [
    "### LogisticRegression"
   ]
  },
  {
   "cell_type": "code",
   "execution_count": 22,
   "id": "6c8cb0ab",
   "metadata": {},
   "outputs": [],
   "source": [
    "#Creating Instance for StandardScaler \n",
    "scaler = StandardScaler()\n",
    "\n",
    "scaler.fit(x_train)\n",
    "\n",
    "x_trainlr = scaler.transform(x_train)"
   ]
  },
  {
   "cell_type": "code",
   "execution_count": 23,
   "id": "291c9264",
   "metadata": {},
   "outputs": [
    {
     "data": {
      "text/plain": [
       "GridSearchCV(cv=10, estimator=LogisticRegression(n_jobs=-1),\n",
       "             param_grid=[{'C': [0.001, 0.01, 0.1, 1, 10, 100],\n",
       "                          'max_iter': [100, 150, 200],\n",
       "                          'penalty': ['l1', 'l2', 'elasticnet']}],\n",
       "             scoring=make_scorer(f1_score))"
      ]
     },
     "execution_count": 23,
     "metadata": {},
     "output_type": "execute_result"
    }
   ],
   "source": [
    "#Hyper-parameter tunning for logistic regression\n",
    "\n",
    "#Instance for the LogisticRegression\n",
    "lr = LogisticRegression(n_jobs=-1)\n",
    "\n",
    "#params for search\n",
    "lr_params = [{'penalty':['l1','l2','elasticnet'],'C':[10**x for x in range(-3,3)],'max_iter':[100,150,200]}]\n",
    "\n",
    "#Instance for Grid Search CV\n",
    "f1score = make_scorer(f1_score, greater_is_better=True, needs_proba=False)\n",
    "lrclf = GridSearchCV(lr, lr_params, cv=10, scoring=f1score)\n",
    "\n",
    "#training the model to find the best parameter\n",
    "lrclf.fit(x_trainlr, y_train)"
   ]
  },
  {
   "cell_type": "code",
   "execution_count": 24,
   "id": "1677e72a",
   "metadata": {},
   "outputs": [
    {
     "name": "stdout",
     "output_type": "stream",
     "text": [
      "The best parameter after GridSearch comes out to be:  {'C': 10, 'max_iter': 100, 'penalty': 'l2'}\n",
      "With the F1 statistic of:  0.6696432931568516\n"
     ]
    }
   ],
   "source": [
    "print(\"The best parameter after GridSearch comes out to be: \",lrclf.best_params_)\n",
    "print(\"With the F1 statistic of: \",lrclf.best_score_)"
   ]
  },
  {
   "cell_type": "markdown",
   "id": "4f39bad5",
   "metadata": {},
   "source": [
    "#### From the F1-score of LogisticRegression definitely it is performing good than a random model and Naive Bayes Classifier but KNN beats Logistic Regression in this case."
   ]
  },
  {
   "cell_type": "markdown",
   "id": "089a8602",
   "metadata": {},
   "source": [
    "### DecisionTreeClassifier"
   ]
  },
  {
   "cell_type": "code",
   "execution_count": 25,
   "id": "4588c894",
   "metadata": {},
   "outputs": [
    {
     "data": {
      "text/plain": [
       "GridSearchCV(cv=10, estimator=DecisionTreeClassifier(),\n",
       "             param_grid=[{'criterion': ['gini', 'entropy', 'log_loss'],\n",
       "                          'max_depth': [2, 3, 4, 5, 6, 7, 8, 9, 10, 11, 12, 13,\n",
       "                                        14, 15, 16, 17, 18, 19, 20, 21, 22, 23,\n",
       "                                        24, 25, 26, 27, 28, 29],\n",
       "                          'min_samples_split': [2, 3, 4, 5]}],\n",
       "             scoring=make_scorer(f1_score))"
      ]
     },
     "execution_count": 25,
     "metadata": {},
     "output_type": "execute_result"
    }
   ],
   "source": [
    "#Hyper-parameter tunning for DecisionTreeClassifier\n",
    "\n",
    "#Instance for the DecisionTreeClassifier\n",
    "dt = DecisionTreeClassifier()\n",
    "\n",
    "#params for search\n",
    "dt_params = [{'criterion':['gini','entropy','log_loss'],'max_depth':[x for x in range(2,30)],'min_samples_split':[2,3,4,5]}]\n",
    "\n",
    "#Instance for Grid Search CV\n",
    "f1score = make_scorer(f1_score, greater_is_better=True, needs_proba=False)\n",
    "dtclf = GridSearchCV(dt, dt_params, cv=10, scoring=f1score)\n",
    "\n",
    "#training the model to find the best parameter\n",
    "dtclf.fit(x_train, y_train)"
   ]
  },
  {
   "cell_type": "code",
   "execution_count": 26,
   "id": "df66765b",
   "metadata": {},
   "outputs": [
    {
     "name": "stdout",
     "output_type": "stream",
     "text": [
      "The best parameter after GridSearch comes out to be:  {'criterion': 'gini', 'max_depth': 15, 'min_samples_split': 2}\n",
      "With the F1 statistic of:  0.7411575027932199\n"
     ]
    }
   ],
   "source": [
    "print(\"The best parameter after GridSearch comes out to be: \",dtclf.best_params_)\n",
    "print(\"With the F1 statistic of: \",dtclf.best_score_)"
   ]
  },
  {
   "cell_type": "markdown",
   "id": "681e824f",
   "metadata": {},
   "source": [
    "#### From the F1-score we can conclude that decision tree classifier is working better than randomModel, Naive Bayes, Logistic Regression but KNN is the best performer till now."
   ]
  },
  {
   "cell_type": "markdown",
   "id": "aeb8efd3",
   "metadata": {},
   "source": [
    "### Random Forest Classifier"
   ]
  },
  {
   "cell_type": "code",
   "execution_count": 27,
   "id": "303bae28",
   "metadata": {},
   "outputs": [
    {
     "data": {
      "text/plain": [
       "GridSearchCV(cv=10, estimator=RandomForestClassifier(n_jobs=-1),\n",
       "             param_grid=[{'criterion': ['gini', 'entropy'],\n",
       "                          'min_samples_split': [2, 3, 4],\n",
       "                          'n_estimators': [100, 150, 200, 250, 300, 350, 400,\n",
       "                                           450, 500, 550, 600, 650, 700, 750,\n",
       "                                           800, 850, 900, 950]}],\n",
       "             scoring=make_scorer(f1_score))"
      ]
     },
     "execution_count": 27,
     "metadata": {},
     "output_type": "execute_result"
    }
   ],
   "source": [
    "#Hyper-parameter tunning for RandomForestClassifier\n",
    "\n",
    "#Instance for the RandomForestClassifier\n",
    "rf = RandomForestClassifier(n_jobs=-1)\n",
    "\n",
    "#params for search\n",
    "rf_params = [{'criterion':['gini','entropy'],'n_estimators':[x for x in range(100,1000,50)],'min_samples_split':[2,3,4]}]\n",
    "\n",
    "#Instance for Grid Search CV\n",
    "f1score = make_scorer(f1_score, greater_is_better=True, needs_proba=False)\n",
    "rfclf = GridSearchCV(rf, rf_params, cv=10, scoring=f1score)\n",
    "\n",
    "#training the model to find the best parameter\n",
    "rfclf.fit(x_train, y_train)"
   ]
  },
  {
   "cell_type": "code",
   "execution_count": 28,
   "id": "2c3a4217",
   "metadata": {},
   "outputs": [
    {
     "name": "stdout",
     "output_type": "stream",
     "text": [
      "The best parameter after GridSearch comes out to be:  {'criterion': 'gini', 'min_samples_split': 3, 'n_estimators': 600}\n",
      "With the F1 statistic of:  0.8475012117567303\n"
     ]
    }
   ],
   "source": [
    "print(\"The best parameter after GridSearch comes out to be: \",rfclf.best_params_)\n",
    "print(\"With the F1 statistic of: \",rfclf.best_score_)"
   ]
  },
  {
   "cell_type": "code",
   "execution_count": 29,
   "id": "36c99293",
   "metadata": {},
   "outputs": [
    {
     "data": {
      "text/html": [
       "<div>\n",
       "<style scoped>\n",
       "    .dataframe tbody tr th:only-of-type {\n",
       "        vertical-align: middle;\n",
       "    }\n",
       "\n",
       "    .dataframe tbody tr th {\n",
       "        vertical-align: top;\n",
       "    }\n",
       "\n",
       "    .dataframe thead th {\n",
       "        text-align: right;\n",
       "    }\n",
       "</style>\n",
       "<table border=\"1\" class=\"dataframe\">\n",
       "  <thead>\n",
       "    <tr style=\"text-align: right;\">\n",
       "      <th></th>\n",
       "      <th>Models</th>\n",
       "      <th>F1-Score</th>\n",
       "    </tr>\n",
       "  </thead>\n",
       "  <tbody>\n",
       "    <tr>\n",
       "      <th>0</th>\n",
       "      <td>RandomModel</td>\n",
       "      <td>0.340100</td>\n",
       "    </tr>\n",
       "    <tr>\n",
       "      <th>1</th>\n",
       "      <td>Naive Bayes</td>\n",
       "      <td>0.662669</td>\n",
       "    </tr>\n",
       "    <tr>\n",
       "      <th>2</th>\n",
       "      <td>KNN</td>\n",
       "      <td>0.870298</td>\n",
       "    </tr>\n",
       "    <tr>\n",
       "      <th>3</th>\n",
       "      <td>Logistic Regression</td>\n",
       "      <td>0.669643</td>\n",
       "    </tr>\n",
       "    <tr>\n",
       "      <th>4</th>\n",
       "      <td>Decision Tree Classifier</td>\n",
       "      <td>0.741158</td>\n",
       "    </tr>\n",
       "    <tr>\n",
       "      <th>5</th>\n",
       "      <td>RandomForest Classifier</td>\n",
       "      <td>0.847501</td>\n",
       "    </tr>\n",
       "  </tbody>\n",
       "</table>\n",
       "</div>"
      ],
      "text/plain": [
       "                     Models  F1-Score\n",
       "0               RandomModel  0.340100\n",
       "1               Naive Bayes  0.662669\n",
       "2                       KNN  0.870298\n",
       "3      Logistic Regression   0.669643\n",
       "4  Decision Tree Classifier  0.741158\n",
       "5   RandomForest Classifier  0.847501"
      ]
     },
     "execution_count": 29,
     "metadata": {},
     "output_type": "execute_result"
    }
   ],
   "source": [
    "# Dataframe for Model Score Comparison\n",
    "d = {\"Models\":['RandomModel','Naive Bayes', 'KNN','Logistic Regression ','Decision Tree Classifier','RandomForest Classifier'],\n",
    "     \"F1-Score\":[0.3401, nbclf.best_score_, clf.best_score_, lrclf.best_score_, dtclf.best_score_, rfclf.best_score_]}\n",
    "Mscore = pd.DataFrame(d,columns=['Models', 'F1-Score'])\n",
    "Mscore"
   ]
  },
  {
   "cell_type": "markdown",
   "id": "c275a682",
   "metadata": {},
   "source": [
    "### Random Forest classifier is doing great and got near KNN, but still KNN tends to perform well that any other models\n",
    "## So i am using the KNN clasifier as my model to predict the unseen data. Since we have performed hyperparameter tuning it is for sure we are not over-fitting or under-fitting."
   ]
  }
 ],
 "metadata": {
  "kernelspec": {
   "display_name": "Python 3 (ipykernel)",
   "language": "python",
   "name": "python3"
  },
  "language_info": {
   "codemirror_mode": {
    "name": "ipython",
    "version": 3
   },
   "file_extension": ".py",
   "mimetype": "text/x-python",
   "name": "python",
   "nbconvert_exporter": "python",
   "pygments_lexer": "ipython3",
   "version": "3.9.13"
  }
 },
 "nbformat": 4,
 "nbformat_minor": 5
}

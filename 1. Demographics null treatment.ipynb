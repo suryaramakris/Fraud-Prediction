{
 "cells": [
  {
   "cell_type": "markdown",
   "id": "41d8b6b2",
   "metadata": {},
   "source": [
    "## <center> Null Value treatment for Train_Demographic Using Model Based Imputation"
   ]
  },
  {
   "cell_type": "code",
   "execution_count": 1,
   "id": "74958fb3",
   "metadata": {},
   "outputs": [],
   "source": [
    "import pandas as pd\n",
    "import numpy as np\n",
    "import seaborn as sns\n",
    "import matplotlib.pyplot as plt\n",
    "\n",
    "from sklearn.preprocessing import OneHotEncoder, LabelEncoder, MinMaxScaler\n",
    "from sklearn.model_selection import train_test_split\n",
    "from sklearn.neighbors import KNeighborsClassifier\n",
    "\n",
    "import joblib\n",
    "\n",
    "import warnings\n",
    "warnings.filterwarnings(\"ignore\")"
   ]
  },
  {
   "cell_type": "code",
   "execution_count": 2,
   "id": "877a4209",
   "metadata": {
    "scrolled": true
   },
   "outputs": [],
   "source": [
    "dfd = pd.read_csv(r\"C:\\Users\\Soorya\\Documents\\capstone-files\\TrainData\\Data\\Train_Demographics.csv\",na_values= ['?','MISSEDDATA','MISSINGVALUE','NA'])"
   ]
  },
  {
   "cell_type": "code",
   "execution_count": 3,
   "id": "1a591898",
   "metadata": {},
   "outputs": [],
   "source": [
    "# can drop Country as all values are same \n",
    "dfd.drop(\"Country\",axis=1,inplace=True)"
   ]
  },
  {
   "cell_type": "code",
   "execution_count": 4,
   "id": "f786d3d4",
   "metadata": {},
   "outputs": [],
   "source": [
    "# seperating/storing the rows with not-null values\n",
    "df2=dfd.dropna().copy()"
   ]
  },
  {
   "cell_type": "code",
   "execution_count": 5,
   "id": "d34ed156",
   "metadata": {},
   "outputs": [
    {
     "data": {
      "text/html": [
       "<div>\n",
       "<style scoped>\n",
       "    .dataframe tbody tr th:only-of-type {\n",
       "        vertical-align: middle;\n",
       "    }\n",
       "\n",
       "    .dataframe tbody tr th {\n",
       "        vertical-align: top;\n",
       "    }\n",
       "\n",
       "    .dataframe thead th {\n",
       "        text-align: right;\n",
       "    }\n",
       "</style>\n",
       "<table border=\"1\" class=\"dataframe\">\n",
       "  <thead>\n",
       "    <tr style=\"text-align: right;\">\n",
       "      <th></th>\n",
       "      <th>CustomerID</th>\n",
       "      <th>InsuredAge</th>\n",
       "      <th>InsuredZipCode</th>\n",
       "      <th>InsuredGender</th>\n",
       "      <th>InsuredEducationLevel</th>\n",
       "      <th>InsuredOccupation</th>\n",
       "      <th>InsuredHobbies</th>\n",
       "      <th>CapitalGains</th>\n",
       "      <th>CapitalLoss</th>\n",
       "    </tr>\n",
       "  </thead>\n",
       "  <tbody>\n",
       "    <tr>\n",
       "      <th>0</th>\n",
       "      <td>Cust10000</td>\n",
       "      <td>35</td>\n",
       "      <td>454776</td>\n",
       "      <td>MALE</td>\n",
       "      <td>JD</td>\n",
       "      <td>armed-forces</td>\n",
       "      <td>movies</td>\n",
       "      <td>56700</td>\n",
       "      <td>-48500</td>\n",
       "    </tr>\n",
       "    <tr>\n",
       "      <th>1</th>\n",
       "      <td>Cust10001</td>\n",
       "      <td>36</td>\n",
       "      <td>454776</td>\n",
       "      <td>MALE</td>\n",
       "      <td>JD</td>\n",
       "      <td>tech-support</td>\n",
       "      <td>cross-fit</td>\n",
       "      <td>70600</td>\n",
       "      <td>-48500</td>\n",
       "    </tr>\n",
       "    <tr>\n",
       "      <th>2</th>\n",
       "      <td>Cust10002</td>\n",
       "      <td>33</td>\n",
       "      <td>603260</td>\n",
       "      <td>MALE</td>\n",
       "      <td>JD</td>\n",
       "      <td>armed-forces</td>\n",
       "      <td>polo</td>\n",
       "      <td>66400</td>\n",
       "      <td>-63700</td>\n",
       "    </tr>\n",
       "    <tr>\n",
       "      <th>3</th>\n",
       "      <td>Cust10003</td>\n",
       "      <td>36</td>\n",
       "      <td>474848</td>\n",
       "      <td>MALE</td>\n",
       "      <td>JD</td>\n",
       "      <td>armed-forces</td>\n",
       "      <td>polo</td>\n",
       "      <td>47900</td>\n",
       "      <td>-73400</td>\n",
       "    </tr>\n",
       "    <tr>\n",
       "      <th>4</th>\n",
       "      <td>Cust10004</td>\n",
       "      <td>29</td>\n",
       "      <td>457942</td>\n",
       "      <td>FEMALE</td>\n",
       "      <td>High School</td>\n",
       "      <td>exec-managerial</td>\n",
       "      <td>dancing</td>\n",
       "      <td>0</td>\n",
       "      <td>-41500</td>\n",
       "    </tr>\n",
       "  </tbody>\n",
       "</table>\n",
       "</div>"
      ],
      "text/plain": [
       "  CustomerID  InsuredAge  InsuredZipCode InsuredGender InsuredEducationLevel  \\\n",
       "0  Cust10000          35          454776          MALE                    JD   \n",
       "1  Cust10001          36          454776          MALE                    JD   \n",
       "2  Cust10002          33          603260          MALE                    JD   \n",
       "3  Cust10003          36          474848          MALE                    JD   \n",
       "4  Cust10004          29          457942        FEMALE           High School   \n",
       "\n",
       "  InsuredOccupation InsuredHobbies  CapitalGains  CapitalLoss  \n",
       "0      armed-forces         movies         56700       -48500  \n",
       "1      tech-support      cross-fit         70600       -48500  \n",
       "2      armed-forces           polo         66400       -63700  \n",
       "3      armed-forces           polo         47900       -73400  \n",
       "4   exec-managerial        dancing             0       -41500  "
      ]
     },
     "execution_count": 5,
     "metadata": {},
     "output_type": "execute_result"
    }
   ],
   "source": [
    "df2.head()"
   ]
  },
  {
   "cell_type": "code",
   "execution_count": 6,
   "id": "ff349488",
   "metadata": {},
   "outputs": [
    {
     "data": {
      "text/plain": [
       "(28806, 9)"
      ]
     },
     "execution_count": 6,
     "metadata": {},
     "output_type": "execute_result"
    }
   ],
   "source": [
    "df2.shape"
   ]
  },
  {
   "cell_type": "code",
   "execution_count": 7,
   "id": "19fd6c89",
   "metadata": {
    "scrolled": false
   },
   "outputs": [],
   "source": [
    "# index value for filtering rows with null values\n",
    "df2_index = set(df2.index.values)\n",
    "dfd_index = set(dfd.index.values)\n",
    "df3_index = dfd_index.difference(df2_index)"
   ]
  },
  {
   "cell_type": "code",
   "execution_count": 8,
   "id": "fff91cb1",
   "metadata": {},
   "outputs": [],
   "source": [
    "df3 = dfd.filter(items=list(df3_index), axis=0).copy()"
   ]
  },
  {
   "cell_type": "code",
   "execution_count": 9,
   "id": "ffe4a501",
   "metadata": {
    "scrolled": true
   },
   "outputs": [
    {
     "data": {
      "text/html": [
       "<div>\n",
       "<style scoped>\n",
       "    .dataframe tbody tr th:only-of-type {\n",
       "        vertical-align: middle;\n",
       "    }\n",
       "\n",
       "    .dataframe tbody tr th {\n",
       "        vertical-align: top;\n",
       "    }\n",
       "\n",
       "    .dataframe thead th {\n",
       "        text-align: right;\n",
       "    }\n",
       "</style>\n",
       "<table border=\"1\" class=\"dataframe\">\n",
       "  <thead>\n",
       "    <tr style=\"text-align: right;\">\n",
       "      <th></th>\n",
       "      <th>CustomerID</th>\n",
       "      <th>InsuredAge</th>\n",
       "      <th>InsuredZipCode</th>\n",
       "      <th>InsuredGender</th>\n",
       "      <th>InsuredEducationLevel</th>\n",
       "      <th>InsuredOccupation</th>\n",
       "      <th>InsuredHobbies</th>\n",
       "      <th>CapitalGains</th>\n",
       "      <th>CapitalLoss</th>\n",
       "    </tr>\n",
       "  </thead>\n",
       "  <tbody>\n",
       "    <tr>\n",
       "      <th>24064</th>\n",
       "      <td>Cust39239</td>\n",
       "      <td>30</td>\n",
       "      <td>450746</td>\n",
       "      <td>NaN</td>\n",
       "      <td>High School</td>\n",
       "      <td>other-service</td>\n",
       "      <td>golf</td>\n",
       "      <td>0</td>\n",
       "      <td>-76000</td>\n",
       "    </tr>\n",
       "    <tr>\n",
       "      <th>3206</th>\n",
       "      <td>Cust13887</td>\n",
       "      <td>37</td>\n",
       "      <td>459878</td>\n",
       "      <td>NaN</td>\n",
       "      <td>High School</td>\n",
       "      <td>exec-managerial</td>\n",
       "      <td>exercise</td>\n",
       "      <td>23300</td>\n",
       "      <td>0</td>\n",
       "    </tr>\n",
       "    <tr>\n",
       "      <th>12041</th>\n",
       "      <td>Cust24494</td>\n",
       "      <td>43</td>\n",
       "      <td>430832</td>\n",
       "      <td>NaN</td>\n",
       "      <td>High School</td>\n",
       "      <td>craft-repair</td>\n",
       "      <td>kayaking</td>\n",
       "      <td>58300</td>\n",
       "      <td>0</td>\n",
       "    </tr>\n",
       "    <tr>\n",
       "      <th>7946</th>\n",
       "      <td>Cust19617</td>\n",
       "      <td>31</td>\n",
       "      <td>431389</td>\n",
       "      <td>NaN</td>\n",
       "      <td>College</td>\n",
       "      <td>sales</td>\n",
       "      <td>paintball</td>\n",
       "      <td>55300</td>\n",
       "      <td>-68700</td>\n",
       "    </tr>\n",
       "    <tr>\n",
       "      <th>15505</th>\n",
       "      <td>Cust2880</td>\n",
       "      <td>34</td>\n",
       "      <td>471453</td>\n",
       "      <td>NaN</td>\n",
       "      <td>PhD</td>\n",
       "      <td>transport-moving</td>\n",
       "      <td>movies</td>\n",
       "      <td>81300</td>\n",
       "      <td>0</td>\n",
       "    </tr>\n",
       "  </tbody>\n",
       "</table>\n",
       "</div>"
      ],
      "text/plain": [
       "      CustomerID  InsuredAge  InsuredZipCode InsuredGender  \\\n",
       "24064  Cust39239          30          450746           NaN   \n",
       "3206   Cust13887          37          459878           NaN   \n",
       "12041  Cust24494          43          430832           NaN   \n",
       "7946   Cust19617          31          431389           NaN   \n",
       "15505   Cust2880          34          471453           NaN   \n",
       "\n",
       "      InsuredEducationLevel InsuredOccupation InsuredHobbies  CapitalGains  \\\n",
       "24064           High School     other-service           golf             0   \n",
       "3206            High School   exec-managerial       exercise         23300   \n",
       "12041           High School      craft-repair       kayaking         58300   \n",
       "7946                College             sales      paintball         55300   \n",
       "15505                   PhD  transport-moving         movies         81300   \n",
       "\n",
       "       CapitalLoss  \n",
       "24064       -76000  \n",
       "3206             0  \n",
       "12041            0  \n",
       "7946        -68700  \n",
       "15505            0  "
      ]
     },
     "execution_count": 9,
     "metadata": {},
     "output_type": "execute_result"
    }
   ],
   "source": [
    "# all rows with null values\n",
    "df3.head()"
   ]
  },
  {
   "cell_type": "code",
   "execution_count": 10,
   "id": "30b44e97",
   "metadata": {
    "scrolled": true
   },
   "outputs": [
    {
     "data": {
      "text/plain": [
       "(30, 9)"
      ]
     },
     "execution_count": 10,
     "metadata": {},
     "output_type": "execute_result"
    }
   ],
   "source": [
    "df3.shape"
   ]
  },
  {
   "cell_type": "code",
   "execution_count": 11,
   "id": "4cf697d6",
   "metadata": {},
   "outputs": [],
   "source": [
    "dfd_notnull = df2.copy()\n",
    "dfd_null = df3.copy()"
   ]
  },
  {
   "cell_type": "markdown",
   "id": "0c3b10b0",
   "metadata": {},
   "source": [
    "## Perform data preparation "
   ]
  },
  {
   "cell_type": "code",
   "execution_count": 12,
   "id": "e4c12e81",
   "metadata": {},
   "outputs": [],
   "source": [
    "# numerical encoding the InsuredGender column\n",
    "df2['InsuredGender'] = df2.InsuredGender.astype('category').cat.codes"
   ]
  },
  {
   "cell_type": "code",
   "execution_count": 13,
   "id": "7781e749",
   "metadata": {},
   "outputs": [],
   "source": [
    "#onehot encoding\n",
    "\n",
    "# Converting type of columns to category\n",
    "df2['InsuredEducationLevel'] = df2['InsuredEducationLevel'].astype('category')\n",
    "df2['InsuredOccupation'] = df2['InsuredOccupation'].astype('category')\n",
    "df2['InsuredHobbies'] = df2['InsuredHobbies'].astype('category')"
   ]
  },
  {
   "cell_type": "code",
   "execution_count": 14,
   "id": "10bf3b5e",
   "metadata": {},
   "outputs": [],
   "source": [
    "# Create an instance of One-hot-encoder\n",
    "enc = OneHotEncoder(handle_unknown = 'ignore')\n",
    "enc.fit(df2[[\"InsuredEducationLevel\",\"InsuredOccupation\",\"InsuredHobbies\"]])\n",
    "enc_data = pd.DataFrame(enc.transform(df2[[\"InsuredEducationLevel\",\"InsuredOccupation\",\"InsuredHobbies\"]]).toarray())"
   ]
  },
  {
   "cell_type": "code",
   "execution_count": 15,
   "id": "f7f59b28",
   "metadata": {},
   "outputs": [],
   "source": [
    "dfd_enc = df2.join(enc_data)\n",
    "dfd_enc.drop(\"CustomerID\",axis=1,inplace=True)"
   ]
  },
  {
   "cell_type": "code",
   "execution_count": 16,
   "id": "b3b47b91",
   "metadata": {},
   "outputs": [],
   "source": [
    "dfd_enc.drop([\"InsuredEducationLevel\",\"InsuredOccupation\",\"InsuredHobbies\"],axis=1,inplace=True)"
   ]
  },
  {
   "cell_type": "code",
   "execution_count": 17,
   "id": "4ba7840b",
   "metadata": {},
   "outputs": [
    {
     "data": {
      "text/plain": [
       "(28806, 46)"
      ]
     },
     "execution_count": 17,
     "metadata": {},
     "output_type": "execute_result"
    }
   ],
   "source": [
    "dfd_enc.shape"
   ]
  },
  {
   "cell_type": "code",
   "execution_count": 18,
   "id": "e9fc3574",
   "metadata": {},
   "outputs": [
    {
     "data": {
      "text/html": [
       "<div>\n",
       "<style scoped>\n",
       "    .dataframe tbody tr th:only-of-type {\n",
       "        vertical-align: middle;\n",
       "    }\n",
       "\n",
       "    .dataframe tbody tr th {\n",
       "        vertical-align: top;\n",
       "    }\n",
       "\n",
       "    .dataframe thead th {\n",
       "        text-align: right;\n",
       "    }\n",
       "</style>\n",
       "<table border=\"1\" class=\"dataframe\">\n",
       "  <thead>\n",
       "    <tr style=\"text-align: right;\">\n",
       "      <th></th>\n",
       "      <th>InsuredAge</th>\n",
       "      <th>InsuredZipCode</th>\n",
       "      <th>InsuredGender</th>\n",
       "      <th>CapitalGains</th>\n",
       "      <th>CapitalLoss</th>\n",
       "      <th>0</th>\n",
       "      <th>1</th>\n",
       "      <th>2</th>\n",
       "      <th>3</th>\n",
       "      <th>4</th>\n",
       "      <th>...</th>\n",
       "      <th>31</th>\n",
       "      <th>32</th>\n",
       "      <th>33</th>\n",
       "      <th>34</th>\n",
       "      <th>35</th>\n",
       "      <th>36</th>\n",
       "      <th>37</th>\n",
       "      <th>38</th>\n",
       "      <th>39</th>\n",
       "      <th>40</th>\n",
       "    </tr>\n",
       "  </thead>\n",
       "  <tbody>\n",
       "    <tr>\n",
       "      <th>0</th>\n",
       "      <td>35</td>\n",
       "      <td>454776</td>\n",
       "      <td>1</td>\n",
       "      <td>56700</td>\n",
       "      <td>-48500</td>\n",
       "      <td>0.0</td>\n",
       "      <td>0.0</td>\n",
       "      <td>0.0</td>\n",
       "      <td>1.0</td>\n",
       "      <td>0.0</td>\n",
       "      <td>...</td>\n",
       "      <td>0.0</td>\n",
       "      <td>0.0</td>\n",
       "      <td>1.0</td>\n",
       "      <td>0.0</td>\n",
       "      <td>0.0</td>\n",
       "      <td>0.0</td>\n",
       "      <td>0.0</td>\n",
       "      <td>0.0</td>\n",
       "      <td>0.0</td>\n",
       "      <td>0.0</td>\n",
       "    </tr>\n",
       "    <tr>\n",
       "      <th>1</th>\n",
       "      <td>36</td>\n",
       "      <td>454776</td>\n",
       "      <td>1</td>\n",
       "      <td>70600</td>\n",
       "      <td>-48500</td>\n",
       "      <td>0.0</td>\n",
       "      <td>0.0</td>\n",
       "      <td>0.0</td>\n",
       "      <td>1.0</td>\n",
       "      <td>0.0</td>\n",
       "      <td>...</td>\n",
       "      <td>0.0</td>\n",
       "      <td>0.0</td>\n",
       "      <td>0.0</td>\n",
       "      <td>0.0</td>\n",
       "      <td>0.0</td>\n",
       "      <td>0.0</td>\n",
       "      <td>0.0</td>\n",
       "      <td>0.0</td>\n",
       "      <td>0.0</td>\n",
       "      <td>0.0</td>\n",
       "    </tr>\n",
       "    <tr>\n",
       "      <th>2</th>\n",
       "      <td>33</td>\n",
       "      <td>603260</td>\n",
       "      <td>1</td>\n",
       "      <td>66400</td>\n",
       "      <td>-63700</td>\n",
       "      <td>0.0</td>\n",
       "      <td>0.0</td>\n",
       "      <td>0.0</td>\n",
       "      <td>1.0</td>\n",
       "      <td>0.0</td>\n",
       "      <td>...</td>\n",
       "      <td>0.0</td>\n",
       "      <td>0.0</td>\n",
       "      <td>0.0</td>\n",
       "      <td>0.0</td>\n",
       "      <td>1.0</td>\n",
       "      <td>0.0</td>\n",
       "      <td>0.0</td>\n",
       "      <td>0.0</td>\n",
       "      <td>0.0</td>\n",
       "      <td>0.0</td>\n",
       "    </tr>\n",
       "    <tr>\n",
       "      <th>3</th>\n",
       "      <td>36</td>\n",
       "      <td>474848</td>\n",
       "      <td>1</td>\n",
       "      <td>47900</td>\n",
       "      <td>-73400</td>\n",
       "      <td>0.0</td>\n",
       "      <td>0.0</td>\n",
       "      <td>0.0</td>\n",
       "      <td>1.0</td>\n",
       "      <td>0.0</td>\n",
       "      <td>...</td>\n",
       "      <td>0.0</td>\n",
       "      <td>0.0</td>\n",
       "      <td>0.0</td>\n",
       "      <td>0.0</td>\n",
       "      <td>1.0</td>\n",
       "      <td>0.0</td>\n",
       "      <td>0.0</td>\n",
       "      <td>0.0</td>\n",
       "      <td>0.0</td>\n",
       "      <td>0.0</td>\n",
       "    </tr>\n",
       "    <tr>\n",
       "      <th>4</th>\n",
       "      <td>29</td>\n",
       "      <td>457942</td>\n",
       "      <td>0</td>\n",
       "      <td>0</td>\n",
       "      <td>-41500</td>\n",
       "      <td>0.0</td>\n",
       "      <td>0.0</td>\n",
       "      <td>1.0</td>\n",
       "      <td>0.0</td>\n",
       "      <td>0.0</td>\n",
       "      <td>...</td>\n",
       "      <td>0.0</td>\n",
       "      <td>0.0</td>\n",
       "      <td>0.0</td>\n",
       "      <td>0.0</td>\n",
       "      <td>0.0</td>\n",
       "      <td>0.0</td>\n",
       "      <td>0.0</td>\n",
       "      <td>0.0</td>\n",
       "      <td>0.0</td>\n",
       "      <td>0.0</td>\n",
       "    </tr>\n",
       "  </tbody>\n",
       "</table>\n",
       "<p>5 rows × 46 columns</p>\n",
       "</div>"
      ],
      "text/plain": [
       "   InsuredAge  InsuredZipCode  InsuredGender  CapitalGains  CapitalLoss    0  \\\n",
       "0          35          454776              1         56700       -48500  0.0   \n",
       "1          36          454776              1         70600       -48500  0.0   \n",
       "2          33          603260              1         66400       -63700  0.0   \n",
       "3          36          474848              1         47900       -73400  0.0   \n",
       "4          29          457942              0             0       -41500  0.0   \n",
       "\n",
       "     1    2    3    4  ...   31   32   33   34   35   36   37   38   39   40  \n",
       "0  0.0  0.0  1.0  0.0  ...  0.0  0.0  1.0  0.0  0.0  0.0  0.0  0.0  0.0  0.0  \n",
       "1  0.0  0.0  1.0  0.0  ...  0.0  0.0  0.0  0.0  0.0  0.0  0.0  0.0  0.0  0.0  \n",
       "2  0.0  0.0  1.0  0.0  ...  0.0  0.0  0.0  0.0  1.0  0.0  0.0  0.0  0.0  0.0  \n",
       "3  0.0  0.0  1.0  0.0  ...  0.0  0.0  0.0  0.0  1.0  0.0  0.0  0.0  0.0  0.0  \n",
       "4  0.0  1.0  0.0  0.0  ...  0.0  0.0  0.0  0.0  0.0  0.0  0.0  0.0  0.0  0.0  \n",
       "\n",
       "[5 rows x 46 columns]"
      ]
     },
     "execution_count": 18,
     "metadata": {},
     "output_type": "execute_result"
    }
   ],
   "source": [
    "dfd_enc.head()"
   ]
  },
  {
   "cell_type": "code",
   "execution_count": 19,
   "id": "c12d692e",
   "metadata": {},
   "outputs": [
    {
     "data": {
      "text/plain": [
       "1230"
      ]
     },
     "execution_count": 19,
     "metadata": {},
     "output_type": "execute_result"
    }
   ],
   "source": [
    "dfd_enc.isnull().sum().sum()"
   ]
  },
  {
   "cell_type": "code",
   "execution_count": 20,
   "id": "6f581311",
   "metadata": {},
   "outputs": [],
   "source": [
    "dfd_enc.dropna(inplace=True)"
   ]
  },
  {
   "cell_type": "code",
   "execution_count": 21,
   "id": "964ba8ee",
   "metadata": {},
   "outputs": [],
   "source": [
    "x = dfd_enc.drop('InsuredGender',axis=1)\n",
    "y = dfd_enc['InsuredGender']"
   ]
  },
  {
   "cell_type": "code",
   "execution_count": 22,
   "id": "b4bf51bd",
   "metadata": {},
   "outputs": [],
   "source": [
    "x_train, x_test, y_train, y_test = train_test_split(x, y, test_size=0.2, random_state=42)"
   ]
  },
  {
   "cell_type": "markdown",
   "id": "c02e5aa1",
   "metadata": {},
   "source": [
    "### Training a simple model for missing value imputation"
   ]
  },
  {
   "cell_type": "code",
   "execution_count": 23,
   "id": "ee3cabde",
   "metadata": {},
   "outputs": [],
   "source": [
    "k = list(range(1,30,2))\n",
    "\n",
    "knn_acc = []\n",
    "\n",
    "for i in k:\n",
    "    neigh = KNeighborsClassifier(n_neighbors=i)\n",
    "    neigh.fit(x_train,y_train)\n",
    "    knn_acc.append(neigh.score(x_test, y_test))"
   ]
  },
  {
   "cell_type": "code",
   "execution_count": 24,
   "id": "a2afb6b1",
   "metadata": {},
   "outputs": [
    {
     "name": "stdout",
     "output_type": "stream",
     "text": [
      "The optimal value for k is 1 with accuracy score 0.7439193884642112\n"
     ]
    }
   ],
   "source": [
    "print(\"The optimal value for k is\",k[np.argmax(np.array(knn_acc))],\"with accuracy score\",np.max(np.array(knn_acc)))"
   ]
  },
  {
   "cell_type": "code",
   "execution_count": 25,
   "id": "112e44d8",
   "metadata": {},
   "outputs": [
    {
     "data": {
      "text/plain": [
       "KNeighborsClassifier(n_neighbors=1)"
      ]
     },
     "execution_count": 25,
     "metadata": {},
     "output_type": "execute_result"
    }
   ],
   "source": [
    "# Training with the optimal value for k\n",
    "neigh = KNeighborsClassifier(n_neighbors=k[np.argmax(np.array(knn_acc))])\n",
    "neigh.fit(x_train,y_train)"
   ]
  },
  {
   "cell_type": "code",
   "execution_count": 26,
   "id": "04338b69",
   "metadata": {},
   "outputs": [
    {
     "data": {
      "text/plain": [
       "['Demographic.joblib']"
      ]
     },
     "execution_count": 26,
     "metadata": {},
     "output_type": "execute_result"
    }
   ],
   "source": [
    "joblib.dump(neigh, 'Demographic.joblib')"
   ]
  },
  {
   "cell_type": "markdown",
   "id": "6a0a14b0",
   "metadata": {},
   "source": [
    "## to predict"
   ]
  },
  {
   "cell_type": "code",
   "execution_count": 27,
   "id": "9ec44223",
   "metadata": {},
   "outputs": [],
   "source": [
    "# changes for the dataframe with null values\n",
    "df3.drop([\"InsuredGender\",\"CustomerID\"],axis=1,inplace=True)"
   ]
  },
  {
   "cell_type": "code",
   "execution_count": 28,
   "id": "69293be6",
   "metadata": {},
   "outputs": [],
   "source": [
    "df3['ind'] = np.array([x for x in range(0,30)])\n",
    "originalindex = list(df3.index.values)"
   ]
  },
  {
   "cell_type": "code",
   "execution_count": 29,
   "id": "d832c70c",
   "metadata": {
    "scrolled": true
   },
   "outputs": [],
   "source": [
    "df3.set_index('ind',inplace=True)"
   ]
  },
  {
   "cell_type": "code",
   "execution_count": 30,
   "id": "2b97b6a1",
   "metadata": {},
   "outputs": [
    {
     "data": {
      "text/html": [
       "<div>\n",
       "<style scoped>\n",
       "    .dataframe tbody tr th:only-of-type {\n",
       "        vertical-align: middle;\n",
       "    }\n",
       "\n",
       "    .dataframe tbody tr th {\n",
       "        vertical-align: top;\n",
       "    }\n",
       "\n",
       "    .dataframe thead th {\n",
       "        text-align: right;\n",
       "    }\n",
       "</style>\n",
       "<table border=\"1\" class=\"dataframe\">\n",
       "  <thead>\n",
       "    <tr style=\"text-align: right;\">\n",
       "      <th></th>\n",
       "      <th>InsuredAge</th>\n",
       "      <th>InsuredZipCode</th>\n",
       "      <th>InsuredEducationLevel</th>\n",
       "      <th>InsuredOccupation</th>\n",
       "      <th>InsuredHobbies</th>\n",
       "      <th>CapitalGains</th>\n",
       "      <th>CapitalLoss</th>\n",
       "    </tr>\n",
       "    <tr>\n",
       "      <th>ind</th>\n",
       "      <th></th>\n",
       "      <th></th>\n",
       "      <th></th>\n",
       "      <th></th>\n",
       "      <th></th>\n",
       "      <th></th>\n",
       "      <th></th>\n",
       "    </tr>\n",
       "  </thead>\n",
       "  <tbody>\n",
       "    <tr>\n",
       "      <th>0</th>\n",
       "      <td>30</td>\n",
       "      <td>450746</td>\n",
       "      <td>High School</td>\n",
       "      <td>other-service</td>\n",
       "      <td>golf</td>\n",
       "      <td>0</td>\n",
       "      <td>-76000</td>\n",
       "    </tr>\n",
       "    <tr>\n",
       "      <th>1</th>\n",
       "      <td>37</td>\n",
       "      <td>459878</td>\n",
       "      <td>High School</td>\n",
       "      <td>exec-managerial</td>\n",
       "      <td>exercise</td>\n",
       "      <td>23300</td>\n",
       "      <td>0</td>\n",
       "    </tr>\n",
       "    <tr>\n",
       "      <th>2</th>\n",
       "      <td>43</td>\n",
       "      <td>430832</td>\n",
       "      <td>High School</td>\n",
       "      <td>craft-repair</td>\n",
       "      <td>kayaking</td>\n",
       "      <td>58300</td>\n",
       "      <td>0</td>\n",
       "    </tr>\n",
       "    <tr>\n",
       "      <th>3</th>\n",
       "      <td>31</td>\n",
       "      <td>431389</td>\n",
       "      <td>College</td>\n",
       "      <td>sales</td>\n",
       "      <td>paintball</td>\n",
       "      <td>55300</td>\n",
       "      <td>-68700</td>\n",
       "    </tr>\n",
       "    <tr>\n",
       "      <th>4</th>\n",
       "      <td>34</td>\n",
       "      <td>471453</td>\n",
       "      <td>PhD</td>\n",
       "      <td>transport-moving</td>\n",
       "      <td>movies</td>\n",
       "      <td>81300</td>\n",
       "      <td>0</td>\n",
       "    </tr>\n",
       "  </tbody>\n",
       "</table>\n",
       "</div>"
      ],
      "text/plain": [
       "     InsuredAge  InsuredZipCode InsuredEducationLevel InsuredOccupation  \\\n",
       "ind                                                                       \n",
       "0            30          450746           High School     other-service   \n",
       "1            37          459878           High School   exec-managerial   \n",
       "2            43          430832           High School      craft-repair   \n",
       "3            31          431389               College             sales   \n",
       "4            34          471453                   PhD  transport-moving   \n",
       "\n",
       "    InsuredHobbies  CapitalGains  CapitalLoss  \n",
       "ind                                            \n",
       "0             golf             0       -76000  \n",
       "1         exercise         23300            0  \n",
       "2         kayaking         58300            0  \n",
       "3        paintball         55300       -68700  \n",
       "4           movies         81300            0  "
      ]
     },
     "execution_count": 30,
     "metadata": {},
     "output_type": "execute_result"
    }
   ],
   "source": [
    "df3.head()"
   ]
  },
  {
   "cell_type": "code",
   "execution_count": 31,
   "id": "37a5e17b",
   "metadata": {},
   "outputs": [],
   "source": [
    "# Converting type of columns to category\n",
    "df3['InsuredEducationLevel'] = df3['InsuredEducationLevel'].astype('category')\n",
    "df3['InsuredOccupation'] = df3['InsuredOccupation'].astype('category')\n",
    "df3['InsuredHobbies'] = df3['InsuredHobbies'].astype('category')\n",
    "\n",
    "enc_array = enc.transform(df3[[\"InsuredEducationLevel\",\"InsuredOccupation\",\"InsuredHobbies\"]]).toarray()"
   ]
  },
  {
   "cell_type": "code",
   "execution_count": 32,
   "id": "4d0dadba",
   "metadata": {},
   "outputs": [],
   "source": [
    "enc_data = pd.DataFrame(enc_array)"
   ]
  },
  {
   "cell_type": "code",
   "execution_count": 33,
   "id": "e14dc87c",
   "metadata": {},
   "outputs": [],
   "source": [
    "dfd_test = df3.join(enc_data)\n",
    "dfd_test.drop([\"InsuredEducationLevel\",\"InsuredOccupation\",\"InsuredHobbies\"],axis=1,inplace=True)"
   ]
  },
  {
   "cell_type": "code",
   "execution_count": 34,
   "id": "d165eb9b",
   "metadata": {},
   "outputs": [
    {
     "data": {
      "text/html": [
       "<div>\n",
       "<style scoped>\n",
       "    .dataframe tbody tr th:only-of-type {\n",
       "        vertical-align: middle;\n",
       "    }\n",
       "\n",
       "    .dataframe tbody tr th {\n",
       "        vertical-align: top;\n",
       "    }\n",
       "\n",
       "    .dataframe thead th {\n",
       "        text-align: right;\n",
       "    }\n",
       "</style>\n",
       "<table border=\"1\" class=\"dataframe\">\n",
       "  <thead>\n",
       "    <tr style=\"text-align: right;\">\n",
       "      <th></th>\n",
       "      <th>InsuredAge</th>\n",
       "      <th>InsuredZipCode</th>\n",
       "      <th>CapitalGains</th>\n",
       "      <th>CapitalLoss</th>\n",
       "      <th>0</th>\n",
       "      <th>1</th>\n",
       "      <th>2</th>\n",
       "      <th>3</th>\n",
       "      <th>4</th>\n",
       "      <th>5</th>\n",
       "      <th>...</th>\n",
       "      <th>31</th>\n",
       "      <th>32</th>\n",
       "      <th>33</th>\n",
       "      <th>34</th>\n",
       "      <th>35</th>\n",
       "      <th>36</th>\n",
       "      <th>37</th>\n",
       "      <th>38</th>\n",
       "      <th>39</th>\n",
       "      <th>40</th>\n",
       "    </tr>\n",
       "    <tr>\n",
       "      <th>ind</th>\n",
       "      <th></th>\n",
       "      <th></th>\n",
       "      <th></th>\n",
       "      <th></th>\n",
       "      <th></th>\n",
       "      <th></th>\n",
       "      <th></th>\n",
       "      <th></th>\n",
       "      <th></th>\n",
       "      <th></th>\n",
       "      <th></th>\n",
       "      <th></th>\n",
       "      <th></th>\n",
       "      <th></th>\n",
       "      <th></th>\n",
       "      <th></th>\n",
       "      <th></th>\n",
       "      <th></th>\n",
       "      <th></th>\n",
       "      <th></th>\n",
       "      <th></th>\n",
       "    </tr>\n",
       "  </thead>\n",
       "  <tbody>\n",
       "    <tr>\n",
       "      <th>0</th>\n",
       "      <td>30</td>\n",
       "      <td>450746</td>\n",
       "      <td>0</td>\n",
       "      <td>-76000</td>\n",
       "      <td>0.0</td>\n",
       "      <td>0.0</td>\n",
       "      <td>1.0</td>\n",
       "      <td>0.0</td>\n",
       "      <td>0.0</td>\n",
       "      <td>0.0</td>\n",
       "      <td>...</td>\n",
       "      <td>0.0</td>\n",
       "      <td>0.0</td>\n",
       "      <td>0.0</td>\n",
       "      <td>0.0</td>\n",
       "      <td>0.0</td>\n",
       "      <td>0.0</td>\n",
       "      <td>0.0</td>\n",
       "      <td>0.0</td>\n",
       "      <td>0.0</td>\n",
       "      <td>0.0</td>\n",
       "    </tr>\n",
       "    <tr>\n",
       "      <th>1</th>\n",
       "      <td>37</td>\n",
       "      <td>459878</td>\n",
       "      <td>23300</td>\n",
       "      <td>0</td>\n",
       "      <td>0.0</td>\n",
       "      <td>0.0</td>\n",
       "      <td>1.0</td>\n",
       "      <td>0.0</td>\n",
       "      <td>0.0</td>\n",
       "      <td>0.0</td>\n",
       "      <td>...</td>\n",
       "      <td>0.0</td>\n",
       "      <td>0.0</td>\n",
       "      <td>0.0</td>\n",
       "      <td>0.0</td>\n",
       "      <td>0.0</td>\n",
       "      <td>0.0</td>\n",
       "      <td>0.0</td>\n",
       "      <td>0.0</td>\n",
       "      <td>0.0</td>\n",
       "      <td>0.0</td>\n",
       "    </tr>\n",
       "    <tr>\n",
       "      <th>2</th>\n",
       "      <td>43</td>\n",
       "      <td>430832</td>\n",
       "      <td>58300</td>\n",
       "      <td>0</td>\n",
       "      <td>0.0</td>\n",
       "      <td>0.0</td>\n",
       "      <td>1.0</td>\n",
       "      <td>0.0</td>\n",
       "      <td>0.0</td>\n",
       "      <td>0.0</td>\n",
       "      <td>...</td>\n",
       "      <td>0.0</td>\n",
       "      <td>1.0</td>\n",
       "      <td>0.0</td>\n",
       "      <td>0.0</td>\n",
       "      <td>0.0</td>\n",
       "      <td>0.0</td>\n",
       "      <td>0.0</td>\n",
       "      <td>0.0</td>\n",
       "      <td>0.0</td>\n",
       "      <td>0.0</td>\n",
       "    </tr>\n",
       "    <tr>\n",
       "      <th>3</th>\n",
       "      <td>31</td>\n",
       "      <td>431389</td>\n",
       "      <td>55300</td>\n",
       "      <td>-68700</td>\n",
       "      <td>0.0</td>\n",
       "      <td>1.0</td>\n",
       "      <td>0.0</td>\n",
       "      <td>0.0</td>\n",
       "      <td>0.0</td>\n",
       "      <td>0.0</td>\n",
       "      <td>...</td>\n",
       "      <td>0.0</td>\n",
       "      <td>0.0</td>\n",
       "      <td>0.0</td>\n",
       "      <td>1.0</td>\n",
       "      <td>0.0</td>\n",
       "      <td>0.0</td>\n",
       "      <td>0.0</td>\n",
       "      <td>0.0</td>\n",
       "      <td>0.0</td>\n",
       "      <td>0.0</td>\n",
       "    </tr>\n",
       "    <tr>\n",
       "      <th>4</th>\n",
       "      <td>34</td>\n",
       "      <td>471453</td>\n",
       "      <td>81300</td>\n",
       "      <td>0</td>\n",
       "      <td>0.0</td>\n",
       "      <td>0.0</td>\n",
       "      <td>0.0</td>\n",
       "      <td>0.0</td>\n",
       "      <td>0.0</td>\n",
       "      <td>0.0</td>\n",
       "      <td>...</td>\n",
       "      <td>0.0</td>\n",
       "      <td>0.0</td>\n",
       "      <td>1.0</td>\n",
       "      <td>0.0</td>\n",
       "      <td>0.0</td>\n",
       "      <td>0.0</td>\n",
       "      <td>0.0</td>\n",
       "      <td>0.0</td>\n",
       "      <td>0.0</td>\n",
       "      <td>0.0</td>\n",
       "    </tr>\n",
       "  </tbody>\n",
       "</table>\n",
       "<p>5 rows × 45 columns</p>\n",
       "</div>"
      ],
      "text/plain": [
       "     InsuredAge  InsuredZipCode  CapitalGains  CapitalLoss    0    1    2  \\\n",
       "ind                                                                         \n",
       "0            30          450746             0       -76000  0.0  0.0  1.0   \n",
       "1            37          459878         23300            0  0.0  0.0  1.0   \n",
       "2            43          430832         58300            0  0.0  0.0  1.0   \n",
       "3            31          431389         55300       -68700  0.0  1.0  0.0   \n",
       "4            34          471453         81300            0  0.0  0.0  0.0   \n",
       "\n",
       "       3    4    5  ...   31   32   33   34   35   36   37   38   39   40  \n",
       "ind                 ...                                                    \n",
       "0    0.0  0.0  0.0  ...  0.0  0.0  0.0  0.0  0.0  0.0  0.0  0.0  0.0  0.0  \n",
       "1    0.0  0.0  0.0  ...  0.0  0.0  0.0  0.0  0.0  0.0  0.0  0.0  0.0  0.0  \n",
       "2    0.0  0.0  0.0  ...  0.0  1.0  0.0  0.0  0.0  0.0  0.0  0.0  0.0  0.0  \n",
       "3    0.0  0.0  0.0  ...  0.0  0.0  0.0  1.0  0.0  0.0  0.0  0.0  0.0  0.0  \n",
       "4    0.0  0.0  0.0  ...  0.0  0.0  1.0  0.0  0.0  0.0  0.0  0.0  0.0  0.0  \n",
       "\n",
       "[5 rows x 45 columns]"
      ]
     },
     "execution_count": 34,
     "metadata": {},
     "output_type": "execute_result"
    }
   ],
   "source": [
    "dfd_test.head()"
   ]
  },
  {
   "cell_type": "code",
   "execution_count": 35,
   "id": "c3ea36a4",
   "metadata": {},
   "outputs": [
    {
     "data": {
      "text/plain": [
       "(30, 45)"
      ]
     },
     "execution_count": 35,
     "metadata": {},
     "output_type": "execute_result"
    }
   ],
   "source": [
    "dfd_test.shape"
   ]
  },
  {
   "cell_type": "code",
   "execution_count": 36,
   "id": "cc22b002",
   "metadata": {},
   "outputs": [],
   "source": [
    "pred = neigh.predict(dfd_test)"
   ]
  },
  {
   "cell_type": "code",
   "execution_count": 37,
   "id": "313121ab",
   "metadata": {},
   "outputs": [
    {
     "data": {
      "text/plain": [
       "array([1, 0, 0, 1, 0, 0, 1, 1, 0, 0, 1, 0, 1, 1, 0, 1, 0, 1, 0, 1, 1, 1,\n",
       "       0, 1, 0, 0, 1, 0, 0, 1], dtype=int8)"
      ]
     },
     "execution_count": 37,
     "metadata": {},
     "output_type": "execute_result"
    }
   ],
   "source": [
    "pred"
   ]
  },
  {
   "cell_type": "code",
   "execution_count": 38,
   "id": "ae050162",
   "metadata": {},
   "outputs": [],
   "source": [
    "#adding predictions to dfd_null dataframe\n",
    "dfd_null['InsuredGender'] = pred"
   ]
  },
  {
   "cell_type": "code",
   "execution_count": 39,
   "id": "9d10efcc",
   "metadata": {},
   "outputs": [],
   "source": [
    "dfd_null['InsuredGender'] = dfd_null.InsuredGender.apply(lambda x: \"MALE\" if x else \"FEMALE\")"
   ]
  },
  {
   "cell_type": "code",
   "execution_count": 40,
   "id": "bdf35c0c",
   "metadata": {},
   "outputs": [
    {
     "data": {
      "text/html": [
       "<div>\n",
       "<style scoped>\n",
       "    .dataframe tbody tr th:only-of-type {\n",
       "        vertical-align: middle;\n",
       "    }\n",
       "\n",
       "    .dataframe tbody tr th {\n",
       "        vertical-align: top;\n",
       "    }\n",
       "\n",
       "    .dataframe thead th {\n",
       "        text-align: right;\n",
       "    }\n",
       "</style>\n",
       "<table border=\"1\" class=\"dataframe\">\n",
       "  <thead>\n",
       "    <tr style=\"text-align: right;\">\n",
       "      <th></th>\n",
       "      <th>CustomerID</th>\n",
       "      <th>InsuredAge</th>\n",
       "      <th>InsuredZipCode</th>\n",
       "      <th>InsuredGender</th>\n",
       "      <th>InsuredEducationLevel</th>\n",
       "      <th>InsuredOccupation</th>\n",
       "      <th>InsuredHobbies</th>\n",
       "      <th>CapitalGains</th>\n",
       "      <th>CapitalLoss</th>\n",
       "    </tr>\n",
       "  </thead>\n",
       "  <tbody>\n",
       "    <tr>\n",
       "      <th>24064</th>\n",
       "      <td>Cust39239</td>\n",
       "      <td>30</td>\n",
       "      <td>450746</td>\n",
       "      <td>MALE</td>\n",
       "      <td>High School</td>\n",
       "      <td>other-service</td>\n",
       "      <td>golf</td>\n",
       "      <td>0</td>\n",
       "      <td>-76000</td>\n",
       "    </tr>\n",
       "    <tr>\n",
       "      <th>3206</th>\n",
       "      <td>Cust13887</td>\n",
       "      <td>37</td>\n",
       "      <td>459878</td>\n",
       "      <td>FEMALE</td>\n",
       "      <td>High School</td>\n",
       "      <td>exec-managerial</td>\n",
       "      <td>exercise</td>\n",
       "      <td>23300</td>\n",
       "      <td>0</td>\n",
       "    </tr>\n",
       "    <tr>\n",
       "      <th>12041</th>\n",
       "      <td>Cust24494</td>\n",
       "      <td>43</td>\n",
       "      <td>430832</td>\n",
       "      <td>FEMALE</td>\n",
       "      <td>High School</td>\n",
       "      <td>craft-repair</td>\n",
       "      <td>kayaking</td>\n",
       "      <td>58300</td>\n",
       "      <td>0</td>\n",
       "    </tr>\n",
       "    <tr>\n",
       "      <th>7946</th>\n",
       "      <td>Cust19617</td>\n",
       "      <td>31</td>\n",
       "      <td>431389</td>\n",
       "      <td>MALE</td>\n",
       "      <td>College</td>\n",
       "      <td>sales</td>\n",
       "      <td>paintball</td>\n",
       "      <td>55300</td>\n",
       "      <td>-68700</td>\n",
       "    </tr>\n",
       "    <tr>\n",
       "      <th>15505</th>\n",
       "      <td>Cust2880</td>\n",
       "      <td>34</td>\n",
       "      <td>471453</td>\n",
       "      <td>FEMALE</td>\n",
       "      <td>PhD</td>\n",
       "      <td>transport-moving</td>\n",
       "      <td>movies</td>\n",
       "      <td>81300</td>\n",
       "      <td>0</td>\n",
       "    </tr>\n",
       "  </tbody>\n",
       "</table>\n",
       "</div>"
      ],
      "text/plain": [
       "      CustomerID  InsuredAge  InsuredZipCode InsuredGender  \\\n",
       "24064  Cust39239          30          450746          MALE   \n",
       "3206   Cust13887          37          459878        FEMALE   \n",
       "12041  Cust24494          43          430832        FEMALE   \n",
       "7946   Cust19617          31          431389          MALE   \n",
       "15505   Cust2880          34          471453        FEMALE   \n",
       "\n",
       "      InsuredEducationLevel InsuredOccupation InsuredHobbies  CapitalGains  \\\n",
       "24064           High School     other-service           golf             0   \n",
       "3206            High School   exec-managerial       exercise         23300   \n",
       "12041           High School      craft-repair       kayaking         58300   \n",
       "7946                College             sales      paintball         55300   \n",
       "15505                   PhD  transport-moving         movies         81300   \n",
       "\n",
       "       CapitalLoss  \n",
       "24064       -76000  \n",
       "3206             0  \n",
       "12041            0  \n",
       "7946        -68700  \n",
       "15505            0  "
      ]
     },
     "execution_count": 40,
     "metadata": {},
     "output_type": "execute_result"
    }
   ],
   "source": [
    "dfd_null.head()"
   ]
  },
  {
   "cell_type": "code",
   "execution_count": 41,
   "id": "4c140601",
   "metadata": {},
   "outputs": [],
   "source": [
    "# appending the 2 dataframe to get the imputed null values for demographics data\n",
    "dfd_final = dfd_notnull.append(dfd_null)"
   ]
  },
  {
   "cell_type": "code",
   "execution_count": 42,
   "id": "362f8d83",
   "metadata": {},
   "outputs": [
    {
     "data": {
      "text/plain": [
       "(28836, 9)"
      ]
     },
     "execution_count": 42,
     "metadata": {},
     "output_type": "execute_result"
    }
   ],
   "source": [
    "dfd_final.shape"
   ]
  },
  {
   "cell_type": "code",
   "execution_count": 43,
   "id": "98e89efe",
   "metadata": {},
   "outputs": [
    {
     "data": {
      "text/html": [
       "<div>\n",
       "<style scoped>\n",
       "    .dataframe tbody tr th:only-of-type {\n",
       "        vertical-align: middle;\n",
       "    }\n",
       "\n",
       "    .dataframe tbody tr th {\n",
       "        vertical-align: top;\n",
       "    }\n",
       "\n",
       "    .dataframe thead th {\n",
       "        text-align: right;\n",
       "    }\n",
       "</style>\n",
       "<table border=\"1\" class=\"dataframe\">\n",
       "  <thead>\n",
       "    <tr style=\"text-align: right;\">\n",
       "      <th></th>\n",
       "      <th>CustomerID</th>\n",
       "      <th>InsuredAge</th>\n",
       "      <th>InsuredZipCode</th>\n",
       "      <th>InsuredGender</th>\n",
       "      <th>InsuredEducationLevel</th>\n",
       "      <th>InsuredOccupation</th>\n",
       "      <th>InsuredHobbies</th>\n",
       "      <th>CapitalGains</th>\n",
       "      <th>CapitalLoss</th>\n",
       "    </tr>\n",
       "  </thead>\n",
       "  <tbody>\n",
       "    <tr>\n",
       "      <th>0</th>\n",
       "      <td>Cust10000</td>\n",
       "      <td>35</td>\n",
       "      <td>454776</td>\n",
       "      <td>MALE</td>\n",
       "      <td>JD</td>\n",
       "      <td>armed-forces</td>\n",
       "      <td>movies</td>\n",
       "      <td>56700</td>\n",
       "      <td>-48500</td>\n",
       "    </tr>\n",
       "    <tr>\n",
       "      <th>1</th>\n",
       "      <td>Cust10001</td>\n",
       "      <td>36</td>\n",
       "      <td>454776</td>\n",
       "      <td>MALE</td>\n",
       "      <td>JD</td>\n",
       "      <td>tech-support</td>\n",
       "      <td>cross-fit</td>\n",
       "      <td>70600</td>\n",
       "      <td>-48500</td>\n",
       "    </tr>\n",
       "    <tr>\n",
       "      <th>2</th>\n",
       "      <td>Cust10002</td>\n",
       "      <td>33</td>\n",
       "      <td>603260</td>\n",
       "      <td>MALE</td>\n",
       "      <td>JD</td>\n",
       "      <td>armed-forces</td>\n",
       "      <td>polo</td>\n",
       "      <td>66400</td>\n",
       "      <td>-63700</td>\n",
       "    </tr>\n",
       "    <tr>\n",
       "      <th>3</th>\n",
       "      <td>Cust10003</td>\n",
       "      <td>36</td>\n",
       "      <td>474848</td>\n",
       "      <td>MALE</td>\n",
       "      <td>JD</td>\n",
       "      <td>armed-forces</td>\n",
       "      <td>polo</td>\n",
       "      <td>47900</td>\n",
       "      <td>-73400</td>\n",
       "    </tr>\n",
       "    <tr>\n",
       "      <th>4</th>\n",
       "      <td>Cust10004</td>\n",
       "      <td>29</td>\n",
       "      <td>457942</td>\n",
       "      <td>FEMALE</td>\n",
       "      <td>High School</td>\n",
       "      <td>exec-managerial</td>\n",
       "      <td>dancing</td>\n",
       "      <td>0</td>\n",
       "      <td>-41500</td>\n",
       "    </tr>\n",
       "  </tbody>\n",
       "</table>\n",
       "</div>"
      ],
      "text/plain": [
       "  CustomerID  InsuredAge  InsuredZipCode InsuredGender InsuredEducationLevel  \\\n",
       "0  Cust10000          35          454776          MALE                    JD   \n",
       "1  Cust10001          36          454776          MALE                    JD   \n",
       "2  Cust10002          33          603260          MALE                    JD   \n",
       "3  Cust10003          36          474848          MALE                    JD   \n",
       "4  Cust10004          29          457942        FEMALE           High School   \n",
       "\n",
       "  InsuredOccupation InsuredHobbies  CapitalGains  CapitalLoss  \n",
       "0      armed-forces         movies         56700       -48500  \n",
       "1      tech-support      cross-fit         70600       -48500  \n",
       "2      armed-forces           polo         66400       -63700  \n",
       "3      armed-forces           polo         47900       -73400  \n",
       "4   exec-managerial        dancing             0       -41500  "
      ]
     },
     "execution_count": 43,
     "metadata": {},
     "output_type": "execute_result"
    }
   ],
   "source": [
    "dfd_final.head()"
   ]
  },
  {
   "cell_type": "code",
   "execution_count": 44,
   "id": "b748045b",
   "metadata": {},
   "outputs": [
    {
     "data": {
      "text/plain": [
       "FEMALE    15659\n",
       "MALE      13177\n",
       "Name: InsuredGender, dtype: int64"
      ]
     },
     "execution_count": 44,
     "metadata": {},
     "output_type": "execute_result"
    }
   ],
   "source": [
    "dfd_final['InsuredGender'].value_counts()"
   ]
  },
  {
   "cell_type": "code",
   "execution_count": 45,
   "id": "34f7c9ee",
   "metadata": {},
   "outputs": [],
   "source": [
    "#save the file as Demographics.csv\n",
    "dfd_final.to_csv(\"Demographics.csv\")"
   ]
  },
  {
   "cell_type": "code",
   "execution_count": null,
   "id": "34788e3d",
   "metadata": {},
   "outputs": [],
   "source": []
  }
 ],
 "metadata": {
  "kernelspec": {
   "display_name": "Python 3 (ipykernel)",
   "language": "python",
   "name": "python3"
  },
  "language_info": {
   "codemirror_mode": {
    "name": "ipython",
    "version": 3
   },
   "file_extension": ".py",
   "mimetype": "text/x-python",
   "name": "python",
   "nbconvert_exporter": "python",
   "pygments_lexer": "ipython3",
   "version": "3.9.13"
  }
 },
 "nbformat": 4,
 "nbformat_minor": 5
}
